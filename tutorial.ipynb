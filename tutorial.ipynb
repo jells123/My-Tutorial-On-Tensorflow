{
 "cells": [
  {
   "cell_type": "markdown",
   "metadata": {},
   "source": [
    "## Learning From Unstructured Data\n",
    "# Assignment 1\n",
    "\n",
    "**Author:** Julia Będziechowska\n",
    "\n",
    "**Student Number:** 56547"
   ]
  },
  {
   "cell_type": "markdown",
   "metadata": {},
   "source": [
    "# TensorFlow"
   ]
  },
  {
   "cell_type": "markdown",
   "metadata": {},
   "source": [
    "What is `TensorFlow`? \n",
    "The official page says:   \n",
    ">TensorFlow is an open-source machine learning library for research and production. TensorFlow offers APIs for beginners and experts to develop for desktop, mobile, web, and cloud\n",
    "\n",
    "pinpointing at least two reasons (or, alternatively, nowadays buzz-words) to learn it:\n",
    " - machine learning\n",
    " - open-source\n",
    "\n",
    "\n",
    "\n",
    "In this tutorial, I would like to share my basic knowledge concerning this popular framework. It is made as an assignment project for *Learning from Unstructured Data* course. Therefore, it consists of datasets and exercises used during these classes.\n",
    "\n",
    "\n"
   ]
  },
  {
   "cell_type": "markdown",
   "metadata": {},
   "source": [
    "### Everything's set up? "
   ]
  },
  {
   "cell_type": "markdown",
   "metadata": {},
   "source": [
    "Before digging into Tensorflow, let's make sure we have it installed, by displaying current Tensorflow's version. From now on, we will have the library imported under the alias `tf`."
   ]
  },
  {
   "cell_type": "code",
   "execution_count": 1,
   "metadata": {},
   "outputs": [
    {
     "name": "stdout",
     "output_type": "stream",
     "text": [
      "Tensorflow 1.13.1\n"
     ]
    }
   ],
   "source": [
    "import tensorflow as tf\n",
    "print(\"Tensorflow\", tf.__version__)"
   ]
  },
  {
   "cell_type": "markdown",
   "metadata": {},
   "source": [
    "Great!\n",
    "Let's start the tutorial with understanding what is the idea of `TensorFlow`."
   ]
  },
  {
   "cell_type": "markdown",
   "metadata": {},
   "source": [
    "Tensorflow is a **dataflow programming framework**.\n",
    "\n",
    "This means that we define and run a so called **computation graph**:\n",
    " - In each node, we can store operations, such as addition, multiplication. \n",
    " - On the edges, we store inputs / outputs of these functions. These can be represented as N-ranked matrices, which are called **Tensors**.\n",
    " \n",
    "The **Tensors** carry the data **flowing** in the graph.\n",
    "> Control question: Why is Tensorflow called Tensorflow? :)\n",
    "\n",
    "What is the reason for organizing data flow in such way? \n",
    "\n",
    " - For a graph given, the dependencies between nodes are described explicitly. This makes it easier to exploit parallelism and distribution across multiple devices: CPUs, GPUS and others. Imagine a visualization of a graph, so that we can see at a quick glance which nodes can be executed in parallel, as the data flows in different channels (on different edges). \n",
    " \n",
    "Great promise of optimized computations! But we also have to note, that no matter how great is the graph we design, it will remain **static at run time**. Once the graph will be running, it is impossible to change it. \n",
    "\n"
   ]
  },
  {
   "cell_type": "markdown",
   "metadata": {},
   "source": [
    "### The APIs"
   ]
  },
  {
   "cell_type": "markdown",
   "metadata": {},
   "source": [
    "TensorFlow exposes so called `Graph API`. We can use not only Python, but also GoLang, Java and C++ and provided library, helping to write out a graph in a special format, known as protobuf. \n",
    "> Protocol buffers are Google's language-neutral, platform-neutral, extensible **mechanism for serializing structured data** – think XML, but smaller, faster, and simpler. \n",
    "\n",
    "There is also `Session API`, providing an interface to the *Tensorflow C++ Runtime*. This is where all the *heavy lifting* and *logic behind computational nodes* happens, as well as ultimate distribution of operations to be executed on the hardware.  "
   ]
  },
  {
   "cell_type": "markdown",
   "metadata": {},
   "source": [
    "### Creating first graph"
   ]
  },
  {
   "cell_type": "markdown",
   "metadata": {},
   "source": [
    "Let's create first simple computation graph, that will add two numbers together. Because this tutorial is built of jupyter notebook cells, we begin with a cell that will make sure we have everything cleaned up:"
   ]
  },
  {
   "cell_type": "code",
   "execution_count": 2,
   "metadata": {},
   "outputs": [],
   "source": [
    "# Clear the default graph stack \n",
    "# and reset the global default graph.\n",
    "\n",
    "# Use to play around and avoid 'dead nodes'...\n",
    "\n",
    "tf.reset_default_graph()"
   ]
  },
  {
   "cell_type": "markdown",
   "metadata": {},
   "source": [
    "Three main data types of TensorFlow are:\n",
    "1. Constants\n",
    "2. Variables\n",
    "3. Placeholders\n",
    "\n",
    "To begin with, we will store two numbers in variables that are constants. We can put a `value` inside, which is of `dtype`, will not change (because is constant), and give it a `name`. For addition, we use `tf.add` function, which will return variable to store the result."
   ]
  },
  {
   "cell_type": "code",
   "execution_count": 3,
   "metadata": {},
   "outputs": [],
   "source": [
    "tf.reset_default_graph()\n",
    "\n",
    "a = tf.constant(1.0, dtype=tf.float32, name='a')\n",
    "b = tf.constant(2.0, dtype=tf.float32, name='b')\n",
    "result = tf.add(a, b, name='result')"
   ]
  },
  {
   "cell_type": "markdown",
   "metadata": {},
   "source": [
    "What can we do next?"
   ]
  },
  {
   "cell_type": "code",
   "execution_count": 4,
   "metadata": {},
   "outputs": [
    {
     "name": "stdout",
     "output_type": "stream",
     "text": [
      "Tensor(\"result:0\", shape=(), dtype=float32)\n"
     ]
    }
   ],
   "source": [
    "print(result)"
   ]
  },
  {
   "cell_type": "markdown",
   "metadata": {},
   "source": [
    "Using Python's `print` operation, we clearly see that we did not print the actual result. Instead, we printed information concerning tensor what will store that result. This is because we defined a graph, put some constant values, but did not let the data flow yet.\n",
    "\n",
    "Therefore, we have to make use of already mentioned `Session API` to run the graph (or we can also run part of graph, if we would like to)."
   ]
  },
  {
   "cell_type": "code",
   "execution_count": 5,
   "metadata": {},
   "outputs": [
    {
     "name": "stdout",
     "output_type": "stream",
     "text": [
      "Result = 3.0\n"
     ]
    }
   ],
   "source": [
    "with tf.Session() as sess:\n",
    "    print(\"Result =\", sess.run(result))\n",
    "    \n",
    "### Alternatively:\n",
    "# sess = tf.Session()\n",
    "# print(\"Result =\", sess.run(result))\n",
    "# sess.close()"
   ]
  },
  {
   "cell_type": "markdown",
   "metadata": {},
   "source": [
    "A default session is defined by calling `tf.Session()`. Then, we fire up the graph and calculate the result by running `sess.run(result)`. \n",
    "\n",
    "In the cell above, there is an alternative way of more manual management of session, but it is better to make use of Python's `with` statement for safety.\n",
    "\n",
    "____________________________\n",
    "\n",
    "After this introduction, we should move on to some machine learning! Recall all computations' and matrices' of data friend, `numpy`:"
   ]
  },
  {
   "cell_type": "code",
   "execution_count": 6,
   "metadata": {},
   "outputs": [],
   "source": [
    "import numpy as np"
   ]
  },
  {
   "cell_type": "markdown",
   "metadata": {},
   "source": [
    "and we can start with implementing Logistic Regression in Tensorflow."
   ]
  },
  {
   "cell_type": "markdown",
   "metadata": {},
   "source": [
    "### Logistic Regression"
   ]
  },
  {
   "cell_type": "markdown",
   "metadata": {},
   "source": [
    "\n",
    "Let's use gene activity data, which is already stored in *data* directory. First, we need to read data from file, take Xs and Ys, as well as perform z-score normalization."
   ]
  },
  {
   "cell_type": "code",
   "execution_count": 7,
   "metadata": {},
   "outputs": [
    {
     "name": "stdout",
     "output_type": "stream",
     "text": [
      "data/gene_data.txt:\n",
      " 36 data records, described by 2 features\n"
     ]
    }
   ],
   "source": [
    "mat = np.loadtxt('data/gene_data.txt', delimiter='\\t', dtype=np.float32)\n",
    "Ys = mat[:, [-1]]\n",
    "Xs = mat[:, :-1]\n",
    "means = np.mean(Xs, 0)\n",
    "stdevs = np.std(Xs, 0)\n",
    "Xs = (Xs-means)/stdevs\n",
    "\n",
    "print(\"{}:\\n {} data records, described by {} features\".format('data/gene_data.txt', str(Xs.shape[0]), str(Xs.shape[1])))"
   ]
  },
  {
   "cell_type": "markdown",
   "metadata": {},
   "source": [
    "We prepare **constant** tensors to store data which we just read from file. \n",
    "\n",
    "Then, we need to create **variables** that will store parameters of logistic regression. These are `weights` and `bias`, that we expect to be altered by the algorithm, heading more optimal solution. In TensorFlow, variables represent a tensors whose values can be changed by running operations on them.\n",
    "> A TensorFlow variable is the best way to represent shared, persistent state manipulated by your program.\n",
    "\n",
    " - for `weights`, we make use of `tf.random_normal` that outputs random values from a normal distribution, for given shape: (2, 1), which stands for 2 features we have, per one record of data at a time *although we will in general perform matrix operations*\n",
    " - we set initial value of `bias` to 0.0\n",
    " - we define `net` tensor, using `tf.matmul` and `tf.add` for calculating weighted linear combination of the input, with a bias\n",
    " - and `output` tensor, which we obtain by applying `sigmoid` function for the tensor above\n",
    " \n",
    "Looks like we have all components of logistic regression - we can input some data and receive some output prediction - but we still need another ones to make the learning possible. Therefore, we further define:\n",
    "\n",
    " - logistic `cost` function: notice that we use tensors joined together with arithmetical operations, that also results in a suitable tensor; applying `tf.reduce_mean` is equivalent to `np.mean` - simply averaging over all elements\n",
    " - an `optimizer`, which is an instance of `GradientDescentOptimizer` class, that implements algorithm specified in its name; we set its `learning_rate` to 0.1\n",
    " - and `training_op`, result of calling `minimize` function which is a method of the class used above\n",
    " \n",
    "At a first glance, it seems as we didn't need to know much about Gradient Descent algorithm, as it is already implemented and easy to use. This is one of the advantages TensorFlow has, that does not concern performance and low-level characteristics, but rather convenience and flexibility at the same time.\n",
    "\n",
    ">What happens in `.minimize(loss=cost)`?\n",
    "<br>This function first computes gradients of all variables provided. TensorFlow automatically assumes that user-defined variables will be *trained*. Indeed, we defined complete graph, as well as `cost` that depends on `output`, and so on... \n",
    "For each variable, the gradient can be another Tensor, or can represent None when no gradient exists. \n",
    "\n"
   ]
  },
  {
   "cell_type": "code",
   "execution_count": 9,
   "metadata": {},
   "outputs": [],
   "source": [
    "tf.reset_default_graph() # :) \n",
    "\n",
    "X = tf.constant(Xs, name=\"X\")\n",
    "y = tf.constant(Ys, name=\"y\")\n",
    "\n",
    "weights = tf.Variable(tf.random_normal(shape=(2, 1)), name=\"weights\")\n",
    "bias = tf.Variable(0.0, name=\"bias\")\n",
    "net = tf.add(tf.matmul(X, weights), bias, name=\"net\")\n",
    "output = tf.nn.sigmoid(net, name=\"output\")\n",
    "\n",
    "cost = -tf.reduce_mean(y * tf.log(output) + (1-y) * (tf.log(1-output)))\n",
    "optimizer = tf.train.GradientDescentOptimizer(learning_rate=0.25)\n",
    "training_op = optimizer.minimize(loss=cost)"
   ]
  },
  {
   "cell_type": "markdown",
   "metadata": {},
   "source": [
    "Now we have all set and will run the graph 20 times. This means that we will calculate current loss 20 times, calculating the gradient each time and adjusting the weights based on learning rate.\n",
    "\n",
    "Because as the documentation states, variable initializers must be run explicitly before other operations (and we surely have declared some), we will use convenient one-line method that will do the trick. This is included in the first line below.\n",
    "\n",
    "Notice how we pass tensors as parameters to the `sess.run` method, so that they are executed and returned. We skip the first variable returned by `.minimize` by a `_` variable, for it will not output any number that is in our interest; we rather want it to perform calculations and result in weights changing. \n",
    "\n",
    "Running the cell below will train our model 20 times, and print current logistic loss for each epoch."
   ]
  },
  {
   "cell_type": "code",
   "execution_count": 11,
   "metadata": {},
   "outputs": [
    {
     "name": "stdout",
     "output_type": "stream",
     "text": [
      "1 : 0.29437947\n",
      "2 : 0.2851331\n",
      "3 : 0.27671987\n",
      "4 : 0.26902333\n",
      "5 : 0.2619482\n",
      "6 : 0.25541553\n",
      "7 : 0.24935967\n",
      "8 : 0.24372523\n",
      "9 : 0.23846538\n",
      "10 : 0.23354012\n",
      "11 : 0.22891514\n",
      "12 : 0.2245608\n",
      "13 : 0.22045135\n",
      "14 : 0.21656434\n",
      "15 : 0.21288003\n",
      "16 : 0.20938107\n",
      "17 : 0.20605221\n",
      "18 : 0.20287968\n",
      "19 : 0.19985141\n",
      "20 : 0.19695652\n"
     ]
    }
   ],
   "source": [
    "init = tf.global_variables_initializer()\n",
    "\n",
    "with tf.Session() as sess:\n",
    "    sess.run(init)\n",
    "    for epoch in range(20):\n",
    "        _, current_loss = sess.run([training_op, cost])\n",
    "        print(\"{} : {}\".format(str(epoch+1), str(current_loss)))\n",
    "    sess.close()"
   ]
  },
  {
   "cell_type": "markdown",
   "metadata": {},
   "source": [
    "Now we should be happy to see that after each epoch, the loss value tends to decrease, so our graph is working. \n",
    "\n",
    "But we want something more from TensorFlow, and this 'something' is probably *neural networks*. How would a very simple neural network look like?\n",
    "\n",
    "We already have an example with logistic regression, and we can think of it as a one layer neural network. Therefore, the example of single neuron that represents OR should be from now understandable. It only differs from the Logistic Regression example by the objective function, which is not a logistic loss, but a mean squared error. It is not a big change at all; we take same tensors to determine the value of loss, but apply different operations.\n",
    "\n"
   ]
  },
  {
   "cell_type": "markdown",
   "metadata": {},
   "source": [
    "### One neuron that learns OR function"
   ]
  },
  {
   "cell_type": "code",
   "execution_count": 12,
   "metadata": {},
   "outputs": [
    {
     "name": "stdout",
     "output_type": "stream",
     "text": [
      "0 : mse=0.11109069\n",
      "100 : mse=0.08929624\n",
      "200 : mse=0.074938536\n",
      "300 : mse=0.06414271\n",
      "400 : mse=0.055788253\n",
      "500 : mse=0.049178332\n",
      "600 : mse=0.043838214\n",
      "700 : mse=0.039443944\n",
      "800 : mse=0.035771236\n",
      "900 : mse=0.03266098\n",
      "1000 : mse=0.029997472\n"
     ]
    }
   ],
   "source": [
    "tf.reset_default_graph()\n",
    "\n",
    "# Pairs of inputs (possible combinations)\n",
    "Xs = np.array([(0,0), (0,1), (1,0), (1,1)])\n",
    "# Results on applying OR function on the pairs above\n",
    "Ys = np.array([0, 1, 1, 1])\n",
    "\n",
    "X = tf.constant(Xs.astype(np.float32), name=\"X\")\n",
    "y = tf.constant(Ys.astype(np.float32).reshape((-1,1)), name=\"y\")\n",
    "\n",
    "weights = tf.Variable(tf.random_normal((2,1)), name=\"weights\")\n",
    "bias = tf.Variable(0.0, name=\"bias\")\n",
    "net = tf.add(tf.matmul(X, weights), bias, name=\"net\")\n",
    "output = tf.nn.sigmoid(net, name=\"output\")\n",
    "\n",
    "mse = tf.reduce_mean(tf.square(y-output),name=\"mse\")\n",
    "optimizer = tf.train.GradientDescentOptimizer(learning_rate=0.1)\n",
    "training_op = optimizer.minimize(loss=mse)\n",
    "\n",
    "init = tf.global_variables_initializer()\n",
    "with tf.Session() as sess:\n",
    "    sess.run(init)\n",
    "    for epoch in range(1001):\n",
    "        _, current_mse = sess.run([training_op, mse])\n",
    "        if epoch % 100 == 0:\n",
    "            print(\"{} : mse={}\".format(str(epoch), str(current_mse)))"
   ]
  },
  {
   "cell_type": "markdown",
   "metadata": {},
   "source": [
    "### XOR Troubles"
   ]
  },
  {
   "cell_type": "markdown",
   "metadata": {},
   "source": [
    "The disadvantage of having only one neuron is that we can question it by a popular *counter-argument* - can one neuron learn XOR function? \n",
    "> No, because one neuron is just a linear classifier, and we can not separate XOR with only one line to split the space\n",
    "\n",
    "Therefore, we will now implement a small neural network with one hidden layer, that can solve the XOR problem, and see how we can connect more units together.\n",
    "\n",
    "\n",
    "\n",
    "More neurons and layers naturally imply that we will need more tensors. It is clearly visible in the code cell below - we define weights, bias, net and output tensors for each of the neurons. Two integer numbers are added to variables' names', first of them indicates number of layer (hidden has number 1, the next one is output layer and has number 2), and the next number is for numbering a neuron within its layer.\n",
    "\n",
    "> Notice how we multiply tensor `X` with both `weights11` and `weights12` for each neuron, subsequently adding bias.\n",
    "<br>To join outputs of two neurons in hidden layer together, we make use of `tf.concat` function, that concatenates two hidden layer outputs along columns (it is specified by axis=1, as we index axis starting from 0 - rows)\n",
    "\n",
    "It wasn't that hard, many things look similar to what we already know! Run the cell below and see how it works, will those neurons learn?"
   ]
  },
  {
   "cell_type": "code",
   "execution_count": 13,
   "metadata": {},
   "outputs": [
    {
     "name": "stdout",
     "output_type": "stream",
     "text": [
      "0 : mse=0.30630922\n",
      "2000 : mse=0.2490517\n",
      "4000 : mse=0.23445475\n",
      "6000 : mse=0.18716346\n",
      "8000 : mse=0.10616985\n",
      "10000 : mse=0.026843872\n",
      "12000 : mse=0.011687108\n",
      "14000 : mse=0.007034794\n",
      "16000 : mse=0.004923149\n",
      "18000 : mse=0.0037467622\n",
      "20000 : mse=0.003006043\n"
     ]
    }
   ],
   "source": [
    "tf.reset_default_graph()\n",
    "\n",
    "# Pairs of inputs (possible combinations)\n",
    "X = tf.constant(np.array([(0,0),(0,1),(1,0),(1,1)]).astype(np.float32), name=\"X\")\n",
    "# Results on applying XOR function on the pairs above\n",
    "y = tf.constant(np.array([0,1,1,0]).astype(np.float32).reshape((-1,1)), name=\"y\")\n",
    "\n",
    "# HIDDEN LAYER:\n",
    "#     1st neuron:\n",
    "weights11 = tf.Variable(tf.random_normal((2, 1)), name=\"weights11\")\n",
    "bias11 = tf.Variable(0.0, name=\"bias11\")\n",
    "net11 = tf.add(tf.matmul(X, weights11), bias11, name=\"net11\")\n",
    "output11 = tf.nn.sigmoid(net11, name=\"output11\")\n",
    "\n",
    "#     2nd neuron:\n",
    "weights12 = tf.Variable(tf.random_normal((2, 1)), name=\"weights12\")\n",
    "bias12 = tf.Variable(0.0, name=\"bias12\")\n",
    "net12 = tf.add(tf.matmul(X, weights12), bias12, name=\"net12\")\n",
    "output12 = tf.nn.sigmoid(net12, name=\"output12\")\n",
    "\n",
    "# OUTPUT LAYER:\n",
    "#     just one neuron:\n",
    "weights21 = tf.Variable(tf.random_normal((2, 1)), name=\"weights21\")\n",
    "bias21 = tf.Variable(0.0, name=\"bias21\")\n",
    "\n",
    "input21 = tf.concat([output11, output12], axis=1)\n",
    "\n",
    "net21 = tf.add(tf.matmul(input21, weights21), bias21, name=\"net12\")\n",
    "output = tf.nn.sigmoid(net21, name=\"output\")\n",
    "\n",
    "mse = tf.reduce_mean(tf.square(y-output),name=\"mse\")\n",
    "optimizer = tf.train.GradientDescentOptimizer(learning_rate=0.1)\n",
    "training_op = optimizer.minimize(loss=mse)\n",
    "\n",
    "init = tf.global_variables_initializer()\n",
    "\n",
    "with tf.Session() as sess:\n",
    "    sess.run(init)\n",
    "    for epoch in range(20001):\n",
    "        _, cost = sess.run([training_op, mse])\n",
    "        if epoch % 2000 == 0:\n",
    "            print(\"{} : mse={}\".format(str(epoch), str(cost)))"
   ]
  },
  {
   "cell_type": "markdown",
   "metadata": {},
   "source": [
    "Well, we see that the network is learning, but the cell above is made up of 42 lines. For only four different pairs of binary values. We declared tensors that store each neuron's parameters separately. And used all examples existing at a time, each epoch...\n",
    "\n",
    "This won't scale too good if the problem gets complicated. Thus, time to move to such problem! "
   ]
  },
  {
   "cell_type": "markdown",
   "metadata": {},
   "source": [
    "#### MNIST dataset"
   ]
  },
  {
   "cell_type": "markdown",
   "metadata": {},
   "source": [
    "MNIST dataset is a very famous set of images of handwritten digits. It provides 60 000 examples in a training set, and 10 000 examples in a test set, all of which have been size-normalized and centered in a fixed-size image. Because of that, we can apply it easly in this tutorial, without spending time on preprocessing and formatting the data.\n",
    "\n",
    "There is a function already provided that will prepare all the data we need. If needed, the dataset will be downloaded from the Internet, and then it will be cached locally."
   ]
  },
  {
   "cell_type": "code",
   "execution_count": 14,
   "metadata": {},
   "outputs": [
    {
     "name": "stdout",
     "output_type": "stream",
     "text": [
      "(60000, 28, 28) (10000, 28, 28)\n"
     ]
    }
   ],
   "source": [
    "from tensorflow import keras\n",
    "\n",
    "mnist  = keras.datasets.mnist\n",
    "(all_train_images, all_train_labels), (test_images, test_labels) = mnist.load_data()\n",
    "\n",
    "print(all_train_images.shape, test_images.shape)"
   ]
  },
  {
   "cell_type": "markdown",
   "metadata": {},
   "source": [
    "You can use the cell below to see a randomly picked image of digit with its label, or just skip this cell."
   ]
  },
  {
   "cell_type": "code",
   "execution_count": 17,
   "metadata": {},
   "outputs": [
    {
     "data": {
      "image/png": "[encoded data removed]",
      "text/plain": [
       "<Figure size 432x288 with 1 Axes>"
      ]
     },
     "metadata": {
      "needs_background": "light"
     },
     "output_type": "display_data"
    }
   ],
   "source": [
    "import matplotlib.pyplot as plt\n",
    "\n",
    "random_idx = np.random.randint(0, len(all_train_images))\n",
    "random_img = all_train_images[random_idx]\n",
    "img_label = all_train_labels[random_idx]\n",
    "\n",
    "plt.imshow(random_img, cmap='gray')\n",
    "plt.title(\"This is digit {}\".format(str(img_label)))\n",
    "plt.show()"
   ]
  },
  {
   "cell_type": "markdown",
   "metadata": {},
   "source": [
    "We can see that the dataset we loaded has matching sizes of training and test set, and that each image's size is 28x28 pixels in grayscale. \n",
    "\n",
    "Let's keep `test_images` data for the very end, final evaluation of the model we are about to create. Thus, we need to split entire training set to training and validation set. Say we need only 10.000 for validation and keep the rest for training.\n",
    "\n",
    "Another thing that we need to do with our data is altering the dimensions. We are going to create a fully-connected layer, so that we can't really input 2D image into it. To achieve that, we will use:\n",
    " - `.reshape(-1, 28*28)`, in which we specified expected shape as `-1, 28*28`. What does it mean? `28*28` indicates that we want to create a 1D vector out of 2D image matrix. We further use `-1` that will tell the function to infer the remaining dimensions, in case we already forgot how many image samples we have ;)"
   ]
  },
  {
   "cell_type": "code",
   "execution_count": 18,
   "metadata": {},
   "outputs": [
    {
     "name": "stdout",
     "output_type": "stream",
     "text": [
      "(50000, 784) (10000, 784) (10000, 784)\n"
     ]
    }
   ],
   "source": [
    "valid_images = all_train_images[50000:].reshape(-1, 28*28)\n",
    "valid_labels = all_train_labels[50000:]\n",
    "\n",
    "train_images = all_train_images[:50000].reshape(-1, 28*28)\n",
    "train_labels = all_train_labels[:50000]\n",
    "\n",
    "test_images = test_images.reshape(-1, 28*28)\n",
    "\n",
    "num_features = train_images.shape[1]\n",
    "num_labels = len(np.unique(train_labels))\n",
    "\n",
    "print(train_images.shape, valid_images.shape, test_images.shape)"
   ]
  },
  {
   "cell_type": "markdown",
   "metadata": {},
   "source": [
    "The new size of `train_images` shows that we managed to *flatten* the images into 1D vectors, with 784 elements each. For readability, we also defined `num_features` variable, that should actually store number 784, for this is the amount of features that describe every single image. We also easly determine `num_labels` by counting all unique labels that can be found in `train_images` set of data.\n",
    "\n",
    "Now, based on the previous conclusions about too much lines of code, let's write a function that will be able to create one layer of neurons. We would like to tell such function:\n",
    "\n",
    " - what is the input tensor that will provide thata to the layer we are creating,\n",
    " - how many neurons we would like to have in a layer,\n",
    " - which activation function we want to apply on the neurons, since we know many other than *sigmoid*,\n",
    " - and preferably give this layer a *name*, as we already saw that we can name the tensors\n",
    " \n",
    "We mentioned above that it would be convenient to change each layer's activation function via the parameter. Well, in TensorFlow, there are many activation functions ready to use. You can check out all the possibities __[here](https://www.tensorflow.org/api_docs/python/tf/keras/activations)__.\n",
    "\n",
    "Let us see the implementation of `layer()` function below:\n"
   ]
  },
  {
   "cell_type": "markdown",
   "metadata": {},
   "source": [
    "### Function that returns `layer` based on passed parameters"
   ]
  },
  {
   "cell_type": "code",
   "execution_count": 19,
   "metadata": {},
   "outputs": [],
   "source": [
    "def layer(inputs, neurons, name, activation_f=None):\n",
    "    with tf.name_scope(name):\n",
    "        weights = tf.Variable(tf.random_normal( (int(inputs.shape[1]), neurons) ), name=\"weights\")\n",
    "        bias = tf.Variable(tf.zeros(neurons), name=\"bias\")\n",
    "        net = tf.add(tf.matmul(inputs, weights), bias, name=\"net\")\n",
    "        if activation_f:\n",
    "            try:\n",
    "                return activation_f(net)\n",
    "            except:\n",
    "                print(\"Failed to apply activation_f\")\n",
    "                return net\n",
    "        else:\n",
    "            return net"
   ]
  },
  {
   "cell_type": "markdown",
   "metadata": {},
   "source": [
    "First, we use `with` statement, followed by `tf.name_scope` function. This enables to create some context with a fixed name for the part of greater neural network graph we want to define, only for operation concerning current layer. We give this scope of one layer a name that user passed as an argument.\n",
    "\n",
    "We prepare similar tensors for `weights`, `bias` and `net` as before, but you might note the difference here:\n",
    "> `weights = tf.Variable(tf.random_normal( (int(inputs.shape[1]), neurons) ), name=\"weights\")`\n",
    "<br>Just because the number of weights, and the shape of a matrix which will represent them, depends now on the inputs and number of neurons we want to have in the layer. We also don't want to store weights separately for each neuron, so we keep them together in one matrix, what is a very common improvement, further friendly towards parallelism and GPUs. \n",
    "\n",
    "Later on, we just replaced `sigmoid` with an if statement that checks whether there was any activation function given, by which we mean the name of a function itself, so that you can choose whatever you want from those that are available. **This is for this tutorial purposes and normally it would be safer to just allow a string as an input, and then decode that string, with a success or failure.** :)\n",
    "\n",
    "The function returns a result of applying activation function, or just weighted sum if this failed. Notice that such tensor returned could now serve as input to another layer, and we are now free to choose whether we want activation or not (for example, no activation for the very output layer)."
   ]
  },
  {
   "cell_type": "markdown",
   "metadata": {},
   "source": [
    "### Placeholders Data Type"
   ]
  },
  {
   "cell_type": "markdown",
   "metadata": {},
   "source": [
    "Before we move on, we now introduce the third datatype, **placeholder**. We already mentioned that but never used it. All the examples until now used:\n",
    " - some constants to store training data,\n",
    " - and some variables for parameters that we want to learn, for example weights initialized with normal distribution\n",
    "\n",
    "But assuming you know how the training of a not too simple neural network look like, we need a way to input different subsets of our data into the network, like a batch of train images, or validation samples. Moreover, the size of batch  we will input is unlikely to be the same size as validation set, or test set that we will later use. This is where we should use placeholders!\n"
   ]
  },
  {
   "cell_type": "code",
   "execution_count": 20,
   "metadata": {},
   "outputs": [],
   "source": [
    "tf.reset_default_graph()\n",
    "\n",
    "# A placeholder for current set of samples, each represented by its features:\n",
    "features = tf.placeholder(tf.float32, shape=(None, num_features))\n",
    "\n",
    "# A placeholder for labels that will describe the current set of samples from above\n",
    "labels = tf.placeholder(tf.int64, shape=(None))\n",
    "\n",
    "# One-hot tensor for the labels that we have\n",
    "one_hot_labels = tf.one_hot(labels, depth = num_labels,\n",
    "                            on_value = 1.0, off_value = 0.0, axis = -1)"
   ]
  },
  {
   "cell_type": "markdown",
   "metadata": {},
   "source": [
    "Above, we define `features` and `labels` placeholders. They have a fixed data type, and more-or-less **fixed shape**. Why more-or-less? Because we know that each image from MNIST that we have is described by 784 pixels, which number we store in `num_features`, but we also know that the number of that images may change within training and validation steps.\n",
    "> We can use **None** for *any size*\n",
    "\n",
    "In the above cell, we also showed how to create a tensor that will enable one-hot encoding of labels that we have. Thus, we expect as many neurons at the output layer as many we have different labels. Notice that the parameter of `tf.one_hot` here is `labels`, which is a placeholder.\n",
    "\n",
    "Once we have placeholders, we can make use of them and create a network. Feel free to alter the activation function or number of neurons per each. You can also add new layers. But:\n",
    "- we have to use `features` placeholder for the first layer for the images to flow,\n",
    "- and we have to use `num_labels` for the output layer, so that we have enough nerons for our classification problem"
   ]
  },
  {
   "cell_type": "code",
   "execution_count": 21,
   "metadata": {},
   "outputs": [],
   "source": [
    "# INPUT LAYER, we will input our images here, \n",
    "# thus - use a placeholder we created for them\n",
    "in_layer = layer(features, 50, 'in_layer', activation_f=tf.nn.sigmoid)\n",
    "\n",
    "# ONE HIDDEN LAYER, which input is the previous layer\n",
    "h_layer1 = layer(in_layer, 25, 'h_layer1', activation_f=tf.nn.sigmoid)\n",
    "\n",
    "# ... some more layers here if you want!\n",
    "\n",
    "# OUTPUT LAYER, thus activation_f=None\n",
    "out_layer = layer(h_layer1, num_labels, 'out_layer', activation_f=None)\n",
    "# tip: num_labels here is 10, for we have 10 different digits"
   ]
  },
  {
   "cell_type": "markdown",
   "metadata": {},
   "source": [
    "Now let's define the objective function and how we want the network to learn, just as we did before. We again need to define loss and choose an algorithm based on which we want to update weights. \n",
    "\n",
    "The problem is slightly different now as we want to predict label for each image that we input. In this case, we can use `softmax_cross_entropy` for the loss, that will determine its value based on one hot labels we provide, in comparison to so-called logits. In our case, we can find logits as last output layer of a network, that already has a correct size for that.\n",
    "\n",
    "For determining probabilities of each class (label of a digit), we will use `softmax` function applied to the output layer. We can predict label for each image by taking the one with maximum probability (`tf.argmax`, along axis=1 which stands for columns in a matrix). See the cell below:"
   ]
  },
  {
   "cell_type": "code",
   "execution_count": 23,
   "metadata": {},
   "outputs": [],
   "source": [
    "loss = tf.reduce_mean(tf.losses.softmax_cross_entropy(\n",
    "    onehot_labels=one_hot_labels,\n",
    "    logits=out_layer))\n",
    "\n",
    "learning_rate = 0.25\n",
    "optimizer = tf.train.GradientDescentOptimizer(learning_rate).minimize(loss)\n",
    "\n",
    "class_probabilities = tf.nn.softmax(out_layer)\n",
    "prediction = tf.argmax(class_probabilities, axis=1)"
   ]
  },
  {
   "cell_type": "markdown",
   "metadata": {},
   "source": [
    "We can define other metrix, for example `accuracy`, again combining operations that are implemented in TensorFlow. \n",
    "\n",
    "Below, `tf.equal` returns True or False values element-wise, comparing `labels` with `prediction`. We can cast those truth values using `tf.cast` to numerical representation in `tf.float32`, which will enable us to calculate simple average (`tf.reduce_mean`)."
   ]
  },
  {
   "cell_type": "code",
   "execution_count": 24,
   "metadata": {},
   "outputs": [],
   "source": [
    "accuracy = tf.reduce_mean(tf.cast(tf.equal(labels, prediction), tf.float32))"
   ]
  },
  {
   "cell_type": "markdown",
   "metadata": {},
   "source": [
    "Almost set! Now we can proceed with specifying how exactly we want the network to **learn**.\n",
    "\n",
    "0. Specify `batch_size`, the amount of images we will input into our network at a time, and `num_epochs`, the number of epochs<br><br>\n",
    "1. For each epoch:<br><Br>\n",
    "    1. We take random images from training set of size same as `batch_size` (`batch_images`)\n",
    "    2. We take coressponding labels (`batch_labels`)\n",
    "    3. We *show* this batch to the network, and let the network learn something from it, updating weights as we specified with an optimizer<br>...<br>\n",
    "    4. We repeat the steps above until we have used all unique images from the training set, then we are done with a single epoch\n",
    "    5. Once finished, we can input validation images to the network, for example in order to read current `accuracy` and `loss`, and check network's ability to generalize.<br><br>\n",
    "2. After training for `num_epochs`, the training is finished. Finally, we input our test data to the model we prepared and read accuracy we get on the data the network hasn't seen before. We may be also interested in reading some `predictions` or `out_layer` output for better experience.\n",
    "    \n",
    "The implementation of this idea can be found in the below cell. We can see some Python-numpy-like indexing that allows simple selection of random subsets of images for each batch. This is obtainable because we store images indices in `shuffled` array, and shuffle it at each epoch. \n",
    "\n",
    "One can note a special way of feeding the placeholders, that we promised to be flexible and convenient in use. We can see in line 17, that defines `batch_dict`, that we can define a dictionary of features and labels, what will further input what we specified into right placeholders. Note how we define different dicts in lines 22 and 27, to verify how the model is performing on both validation and traning sets. Using the latter ones, we just run our session with `[accuracy, loss]`, that means no traning is done, we only calculate the indicated measures that are in our interest.\n"
   ]
  },
  {
   "cell_type": "markdown",
   "metadata": {},
   "source": [
    "### Training, valdation and test of Neural Network"
   ]
  },
  {
   "cell_type": "code",
   "execution_count": 25,
   "metadata": {
    "scrolled": true
   },
   "outputs": [
    {
     "name": "stdout",
     "output_type": "stream",
     "text": [
      "Epoch 0, validation acc: 0.5823, training acc: 0.56766\n",
      "Epoch 10, validation acc: 0.7919, training acc: 0.77342\n",
      "Epoch 20, validation acc: 0.8394, training acc: 0.83668\n",
      "Epoch 30, validation acc: 0.8691, training acc: 0.85508\n",
      "Epoch 40, validation acc: 0.8682, training acc: 0.85734\n",
      "Epoch 50, validation acc: 0.8722, training acc: 0.86102\n",
      "Epoch 60, validation acc: 0.8822, training acc: 0.87052\n",
      "Epoch 70, validation acc: 0.8895, training acc: 0.87938\n",
      "Epoch 80, validation acc: 0.8746, training acc: 0.8674\n",
      "Epoch 90, validation acc: 0.8715, training acc: 0.86384\n",
      "Epoch 100, validation acc: 0.8931, training acc: 0.88334\n",
      "\n",
      "TEST SET accuracy: 0.889\n"
     ]
    }
   ],
   "source": [
    "shuffled = np.array(range(train_images.shape[0]))\n",
    "\n",
    "batch_size = 100\n",
    "num_epochs = 101 # Keep this number low if you are impatient :)\n",
    "\n",
    "# Define simple lists to save network's progress\n",
    "train_acc_history, val_acc_history = [], []\n",
    "train_loss_history, val_loss_history = [], []\n",
    "\n",
    "with tf.Session() as session:\n",
    "    tf.global_variables_initializer().run(session=session)\n",
    "    \n",
    "    for epoch in range(num_epochs):\n",
    "        offset = 0\n",
    "        np.random.shuffle(shuffled)\n",
    "        while offset < train_images.shape[0]:\n",
    "            batch_images = train_images[shuffled[offset : offset+batch_size]]\n",
    "            batch_labels = train_labels[shuffled[offset : offset+batch_size]]\n",
    "            batch_dict = {features : batch_images, labels : batch_labels}\n",
    "            session.run([optimizer], feed_dict=batch_dict)\n",
    "            offset += batch_size\n",
    "\n",
    "        # Check out the network with Validation set\n",
    "        validation_dict = {features : valid_images, labels : valid_labels}\n",
    "        val_acc, val_loss = session.run([accuracy, loss], feed_dict=validation_dict)\n",
    "        # gather data for viz\n",
    "        val_acc_history.append(val_acc); val_loss_history.append(val_loss)\n",
    "        \n",
    "        # Check out the netowork with Training set\n",
    "        training_dict = {features : train_images, labels : train_labels}\n",
    "        train_acc, train_loss = session.run([accuracy, loss], feed_dict=training_dict)\n",
    "        # gather data for viz\n",
    "        train_acc_history.append(train_acc); train_loss_history.append(train_loss)\n",
    "        \n",
    "        if epoch % 10 == 0:\n",
    "            print(\"Epoch {}, validation acc: {}, training acc: {}\".format(str(epoch), str(val_acc), str(train_acc)))\n",
    "            \n",
    "    test_dict = {features : test_images, labels : test_labels} \n",
    "    test_acc, test_predictions, test_logits = session.run([accuracy, prediction, out_layer], feed_dict=test_dict)\n",
    "    print(\"\\nTEST SET accuracy: {}\".format(str(test_acc)))"
   ]
  },
  {
   "cell_type": "markdown",
   "metadata": {},
   "source": [
    "We can plot the accuracy measures we obtained from both training and validation set using `maptlotlib.pyplot`, but as it is not TensorFlow itself, the two cells below can be skipped. Anyway, it is rather hard to imagine to evaluate on some models without convenient visualizations of numbers that we obtain."
   ]
  },
  {
   "cell_type": "code",
   "execution_count": 26,
   "metadata": {},
   "outputs": [
    {
     "data": {
      "image/png": "[encoded data removed]",
      "text/plain": [
       "<Figure size 432x288 with 1 Axes>"
      ]
     },
     "metadata": {
      "needs_background": "light"
     },
     "output_type": "display_data"
    }
   ],
   "source": [
    "import matplotlib.pyplot as plt\n",
    "\n",
    "# PLOT ACCURACY\n",
    "\n",
    "plt.plot(train_acc_history)\n",
    "plt.plot(val_acc_history)\n",
    "plt.title(\"Training and validation accuracy along epochs\")\n",
    "\n",
    "plt.show()"
   ]
  },
  {
   "cell_type": "code",
   "execution_count": 27,
   "metadata": {},
   "outputs": [
    {
     "data": {
      "image/png": "[encoded data removed]",
      "text/plain": [
       "<Figure size 432x288 with 1 Axes>"
      ]
     },
     "metadata": {
      "needs_background": "light"
     },
     "output_type": "display_data"
    }
   ],
   "source": [
    "import matplotlib.pyplot as plt\n",
    "\n",
    "# PLOT LOSS\n",
    "\n",
    "plt.plot(train_loss_history)\n",
    "plt.plot(val_loss_history)\n",
    "plt.title(\"Training and validation loss (cross-entropy) along epochs\")\n",
    "\n",
    "plt.show()"
   ]
  },
  {
   "cell_type": "markdown",
   "metadata": {},
   "source": [
    "If we still do not believe in what is happening, recall that we did a final evaluation using test set, and retrieved final predictions, as well as some output logits. Therefore, we can pick one sample from the test set and check out the actual values that our model predicts."
   ]
  },
  {
   "cell_type": "code",
   "execution_count": 28,
   "metadata": {
    "scrolled": true
   },
   "outputs": [
    {
     "data": {
      "image/png": "[encoded data removed]",
      "text/plain": [
       "<Figure size 432x288 with 1 Axes>"
      ]
     },
     "metadata": {
      "needs_background": "light"
     },
     "output_type": "display_data"
    },
    {
     "name": "stdout",
     "output_type": "stream",
     "text": [
      "Logits:\n",
      " [(0, 5.545579), (1, -6.025017), (2, -2.1205626), (3, -4.7529125), (4, -6.8174977), (5, -0.80819654), (6, 0.20762241), (7, -4.2528877), (8, -3.4302769), (9, -1.9112401)]\n"
     ]
    }
   ],
   "source": [
    "import matplotlib.pyplot as plt\n",
    "\n",
    "random_idx = np.random.randint(0, len(test_images))\n",
    "random_img = test_images[random_idx].reshape(28, 28)\n",
    "\n",
    "real_label = test_labels[random_idx]\n",
    "predicted_label = test_labels[test_predictions[random_idx]]\n",
    "\n",
    "plt.imshow(random_img, cmap='gray')\n",
    "plt.title(\"Digit {}, predicted as {}\".format(str(real_label), str(predicted_label)))\n",
    "plt.show()\n",
    "\n",
    "print(\"Logits:\\n\", list(zip([i for i in range(10)], test_logits[random_idx])))"
   ]
  },
  {
   "cell_type": "markdown",
   "metadata": {},
   "source": [
    "Okay. By now, we took a lot of effort in understanding all the components we need to build a neural network in TensorFlow. \n",
    "\n",
    "We may consider different models for different tasks, but the idea will remain the same. For example, we would minimize different measure for classification task than for regression task. There are also other applications, such as autoencoders, which architecture's shape is even different. And there are other networks apart from fully-connected ones, that would need slightly different handling.\n",
    "\n",
    "We built our networks with tensors, nodes, creating some quite complicated graphs. Some functions, such as `layer`, were introduced to simplify the implementation and reduce length of a code. But we can build models with more abstract *building blocks* with a support of a wide-known library that has to be mentioned here:"
   ]
  },
  {
   "cell_type": "markdown",
   "metadata": {},
   "source": [
    "### Keras"
   ]
  },
  {
   "cell_type": "markdown",
   "metadata": {},
   "source": [
    "Keras is an open-source neural-network library written in Python. It is capable of running on top of TensorFlow, as well as other deep learning frameworks. \n",
    "\n",
    "It is famous for enabling fast experimentation with deep neural networks, it focuses on being user-friendly, modular, and extensible. Therefore, we can proceed to more relaxing :) part of describing briefly what such library could do. We will observe that Keras is more high-level in TensorFlow and we won't have to dig that deep into the details. Instead, we can basically start designing a neural network almost straightaway."
   ]
  },
  {
   "cell_type": "code",
   "execution_count": 29,
   "metadata": {},
   "outputs": [
    {
     "name": "stdout",
     "output_type": "stream",
     "text": [
      "Keras 2.2.4-tf\n"
     ]
    }
   ],
   "source": [
    "print(\"Keras\", tf.keras.__version__)"
   ]
  },
  {
   "cell_type": "markdown",
   "metadata": {},
   "source": [
    "### Sequential API"
   ]
  },
  {
   "cell_type": "markdown",
   "metadata": {},
   "source": [
    "In Keras, there is so-called Sequential API, based on which we can create a neural network **sequentially**. This means, adding more layers and components like building blocks, or, as the documentation says: \n",
    "> Sequential model is a linear stack of layers\n",
    "\n",
    "Instead of making the network more and more complex, and making the problem to solve more difficult, we will stay for now with the simple MNIST digits dataset, so we can see how much effort we can save with the help of Keras. And let's make use of what we already loaded, we have MNIST dataset stored in cache.\n",
    "\n",
    "Start with verifying whether importing some Keras utilities succeed."
   ]
  },
  {
   "cell_type": "code",
   "execution_count": 87,
   "metadata": {},
   "outputs": [],
   "source": [
    "from tensorflow import keras\n",
    "\n",
    "from keras.optimizers import SGD\n",
    "from keras.models import Sequential, Model\n",
    "from keras.layers import BatchNormalization, Conv2D, MaxPooling2D\n",
    "from keras.layers import Activation, Flatten, Dropout, Dense, Input, LeakyReLU"
   ]
  },
  {
   "cell_type": "markdown",
   "metadata": {},
   "source": [
    "We do the same loading of data again, with different variables' names, in case the order of cells would mess up too much. We can observe some differences from the very beginning:\n",
    " - we do not have to do manual splitting of training set into training and valitation\n",
    " - converting different labels into one-hot-encoded vector is simple with the help of `keras.utils.to_categorical` function\n",
    " \n",
    "We will begin with flattening our images, into vectors with 784 elements, but do not worry, we will further proceed possible to more effective architectures when dealing with 2D image data. For the first example to be simple, we will reproduce the neural network from above, which we created in pure TensorFlow.\n",
    "> There is even `train_test_split` function for splitting all the data we have into train and test. You can provide percentage of entire dataset you would like to save for testing."
   ]
  },
  {
   "cell_type": "code",
   "execution_count": 32,
   "metadata": {},
   "outputs": [],
   "source": [
    "((trainX, trainY), (testX, testY)) = keras.datasets.mnist.load_data()\n",
    "\n",
    "trainX = trainX.reshape((-1, 28*28)).astype(\"float32\")\n",
    "testX = testX.reshape((-1, 28*28)).astype(\"float32\")\n",
    "\n",
    "trainY = keras.utils.to_categorical(trainY, 10)\n",
    "testY = keras.utils.to_categorical(testY, 10)"
   ]
  },
  {
   "cell_type": "markdown",
   "metadata": {},
   "source": [
    "We need to define some hyper parameters, just as in the previous case:"
   ]
  },
  {
   "cell_type": "code",
   "execution_count": 33,
   "metadata": {},
   "outputs": [],
   "source": [
    "batch_size = 100\n",
    "num_epochs = 20\n",
    "learning_rate = 0.25"
   ]
  },
  {
   "cell_type": "markdown",
   "metadata": {},
   "source": [
    "And proceed to discovering magic of Sequential API. Adding following layers is as simple as calling `.add` function on the object that represents `Sequential()` instance. \n",
    "\n",
    "It is on us to specify what the input shape will look like. But only the input shape! The next layers we are going to add will infer suitable shapes automatically. We can read in __[documentation](https://keras.io/getting-started/sequential-model-guide/)__ that there are several ways of specifying input shape, depending on the type of the first layer. In the example below, we use `input_shape=(num_features,)`, so we use one-element tuple for that. But we could have also used `input_dim=num_features`, because our network is fully-connected. You will soon realize that there are many convenient 'tricks' in Keras that are just described in its documentation.\n",
    "\n",
    "To recreate the network, we only need a few lines below, instantiating an object of type Sequential, and then adding `Dense` layers, which stands for fully-connected layer. We simply pass a number of neurons as a parameter, or a string to specify activation function. Similarily to what we tried to implement on our own with `layer()` function.\n",
    "\n",
    "The number of possibilities grow, as we can either specify activation function beside the actual layer, or we could add it calling another `.add` method. Only the sequential orders of 'layers' we add matters and determines our model. \n",
    "\n",
    "You can see how easy it is to define the last, output layer, we simply put `softmax` activation instead of `sigmoid`, that will do for classifying images. \n",
    "\n",
    "Next, we create an instance of `SGD` object, that stands for **Stochastic Gradient Descent**. It is one of many *optimizers* offered by Keras. Some parameters that all of them share include learning rate.\n",
    "\n",
    "Before training a model, we have to call `.compile` method of our `model` that instantiates object of class Sequential. This configures the learning process. What we have to specify on this step are:\n",
    " - what optimizer we want to use - we can identify it with a string or pass an instance of the `Optimizer` class for more flexibility\n",
    " - what is the loss function; specifying it can be done in two ways just like the optimizer above,\n",
    " - a list of metrics, which is `accuracy` in this case, for our problem we are solving is classification\n",
    " \n",
    "After we have compiled the model, we can begin its training. There is a specific way to do this, offered by `.fit` method of our model. You can probably observe that it is almost readable and requires no further explanation. We pass training examples with their labels as `trainX` and `trainY` parameters and define batch size and number of epochs. Instead of dealing with manual train/validation split, we provide a number, 0.15 that gives the ratio of these two datasets. All of these within one method. Some interesting parameters here include:\n",
    "- level of verbosity, `verbose`, lets you customize what is output during the training\n",
    "- `callbacks` parameter, that enables to apply different sets of functions at given stages of the training procedure - this can get even more insights into training progress and statistics.\n",
    "> My favorite one here is `ModelCheckpoint` callback, that is able to monitor specified quantity, and, for example, save current model if it improved, comparing this quantity. Saving here means literal writing current weights into specified file. I didn't really wonder whether such option existed, until I lost many (many) hours of training on my parents' laptop, because the computer *seemed very loud*. :) See __[here](https://keras.io/callbacks/)__\n",
    "\n"
   ]
  },
  {
   "cell_type": "markdown",
   "metadata": {},
   "source": [
    "### Creating model in Keras"
   ]
  },
  {
   "cell_type": "code",
   "execution_count": 35,
   "metadata": {
    "scrolled": true
   },
   "outputs": [
    {
     "name": "stdout",
     "output_type": "stream",
     "text": [
      "Train on 48000 samples, validate on 12000 samples\n",
      "Epoch 1/20\n",
      "48000/48000 [==============================] - 2s 45us/step - loss: 1.1712 - acc: 0.6880 - val_loss: 0.9075 - val_acc: 0.7345\n",
      "Epoch 2/20\n",
      "48000/48000 [==============================] - 2s 37us/step - loss: 0.8221 - acc: 0.7394 - val_loss: 0.6748 - val_acc: 0.7929\n",
      "Epoch 3/20\n",
      "48000/48000 [==============================] - 1s 29us/step - loss: 0.7938 - acc: 0.7440 - val_loss: 0.7252 - val_acc: 0.7742\n",
      "Epoch 4/20\n",
      "48000/48000 [==============================] - 1s 28us/step - loss: 0.7500 - acc: 0.7584 - val_loss: 0.6755 - val_acc: 0.7875\n",
      "Epoch 5/20\n",
      "48000/48000 [==============================] - 1s 29us/step - loss: 0.7336 - acc: 0.7608 - val_loss: 0.7631 - val_acc: 0.7422\n",
      "Epoch 6/20\n",
      "48000/48000 [==============================] - 1s 28us/step - loss: 0.7218 - acc: 0.7561 - val_loss: 0.6896 - val_acc: 0.7730\n",
      "Epoch 7/20\n",
      "48000/48000 [==============================] - 1s 28us/step - loss: 0.6772 - acc: 0.7780 - val_loss: 0.6972 - val_acc: 0.7636\n",
      "Epoch 8/20\n",
      "48000/48000 [==============================] - 1s 29us/step - loss: 0.7331 - acc: 0.7563 - val_loss: 0.6509 - val_acc: 0.7833\n",
      "Epoch 9/20\n",
      "48000/48000 [==============================] - 2s 32us/step - loss: 0.6229 - acc: 0.7967 - val_loss: 0.5558 - val_acc: 0.8252\n",
      "Epoch 10/20\n",
      "48000/48000 [==============================] - 1s 31us/step - loss: 0.5939 - acc: 0.8028 - val_loss: 0.5639 - val_acc: 0.8164\n",
      "Epoch 11/20\n",
      "48000/48000 [==============================] - 1s 30us/step - loss: 0.6268 - acc: 0.7901 - val_loss: 0.6119 - val_acc: 0.7938\n",
      "Epoch 12/20\n",
      "48000/48000 [==============================] - 2s 32us/step - loss: 0.7030 - acc: 0.7661 - val_loss: 0.5970 - val_acc: 0.8083\n",
      "Epoch 13/20\n",
      "48000/48000 [==============================] - 1s 31us/step - loss: 0.6843 - acc: 0.7745 - val_loss: 0.6129 - val_acc: 0.8073\n",
      "Epoch 14/20\n",
      "48000/48000 [==============================] - 2s 33us/step - loss: 0.6594 - acc: 0.7823 - val_loss: 0.6252 - val_acc: 0.7945\n",
      "Epoch 15/20\n",
      "48000/48000 [==============================] - 1s 31us/step - loss: 0.6383 - acc: 0.7874 - val_loss: 0.6173 - val_acc: 0.7952\n",
      "Epoch 16/20\n",
      "48000/48000 [==============================] - 1s 29us/step - loss: 0.6137 - acc: 0.7975 - val_loss: 0.6521 - val_acc: 0.7866\n",
      "Epoch 17/20\n",
      "48000/48000 [==============================] - 1s 30us/step - loss: 0.6648 - acc: 0.7783 - val_loss: 0.6418 - val_acc: 0.7807\n",
      "Epoch 18/20\n",
      "48000/48000 [==============================] - 1s 31us/step - loss: 0.6115 - acc: 0.7976 - val_loss: 0.5582 - val_acc: 0.8161\n",
      "Epoch 19/20\n",
      "48000/48000 [==============================] - 1s 31us/step - loss: 0.6264 - acc: 0.7903 - val_loss: 0.5933 - val_acc: 0.7958\n",
      "Epoch 20/20\n",
      "48000/48000 [==============================] - 1s 31us/step - loss: 0.6196 - acc: 0.7975 - val_loss: 0.6070 - val_acc: 0.8062\n"
     ]
    }
   ],
   "source": [
    "model = Sequential()\n",
    "\n",
    "model.add(Dense(50, input_shape=(num_features,), activation='sigmoid', name='input_layer'))\n",
    "model.add(Dense(25, activation='sigmoid', name='hidden_layer'))\n",
    "model.add(Dense(num_labels, activation='softmax', name='output_layer'))\n",
    "\n",
    "opt = SGD(lr=learning_rate)\n",
    "model.compile(optimizer=opt, loss='categorical_crossentropy',\n",
    "              metrics=['accuracy'])\n",
    "\n",
    "H = model.fit(trainX, trainY, \n",
    "                   validation_split=0.2,\n",
    "                   batch_size=batch_size, epochs=num_epochs,\n",
    "                   verbose=1)"
   ]
  },
  {
   "cell_type": "markdown",
   "metadata": {},
   "source": [
    "If you want, or don't believe in what you see, you can fall the `.summary` method of the model, that will show all its component, with total numbers of parameters that can be trained."
   ]
  },
  {
   "cell_type": "code",
   "execution_count": 36,
   "metadata": {},
   "outputs": [
    {
     "name": "stdout",
     "output_type": "stream",
     "text": [
      "_________________________________________________________________\n",
      "Layer (type)                 Output Shape              Param #   \n",
      "=================================================================\n",
      "input_layer (Dense)          (None, 50)                39250     \n",
      "_________________________________________________________________\n",
      "hidden_layer (Dense)         (None, 25)                1275      \n",
      "_________________________________________________________________\n",
      "output_layer (Dense)         (None, 10)                260       \n",
      "=================================================================\n",
      "Total params: 40,785\n",
      "Trainable params: 40,785\n",
      "Non-trainable params: 0\n",
      "_________________________________________________________________\n"
     ]
    }
   ],
   "source": [
    "model.summary()"
   ]
  },
  {
   "cell_type": "markdown",
   "metadata": {},
   "source": [
    "As we can see, training of model in Keras is very fancy. Now let's perform final prediction, exactly as we did in case of TensorFlow."
   ]
  },
  {
   "cell_type": "code",
   "execution_count": 37,
   "metadata": {},
   "outputs": [
    {
     "name": "stdout",
     "output_type": "stream",
     "text": [
      "[5.9709773e-06 2.3106651e-08 6.8838388e-05 8.0510892e-04 8.8289098e-06\n",
      " 6.7293299e-06 6.5905931e-10 9.9390537e-01 4.2846655e-06 5.1948912e-03]\n"
     ]
    }
   ],
   "source": [
    "predictions = model.predict(testX)\n",
    "print(predictions[0])"
   ]
  },
  {
   "cell_type": "markdown",
   "metadata": {},
   "source": [
    "Reading from `predictions`, that was returned by `.predict` method, is same as reading last layer's output. We can retrieve all possible class probabilities for particular test set example. \n",
    "\n",
    "How about training progress, that we manually collected with pure TensorFlow? We didn't describe yet what `model.fit` returned. We stored it in variable called `H`, that is a `History` object. Using it, we can easily access different measures. Thanks to that, visualizing training progress is as simple as the cell below (source: __[here](https://www.pyimagesearch.com/2018/09/10/keras-tutorial-how-to-get-started-with-keras-deep-learning-and-python/)__, like a pro!):"
   ]
  },
  {
   "cell_type": "code",
   "execution_count": 38,
   "metadata": {},
   "outputs": [
    {
     "data": {
      "image/png": "[encoded data removed]",
      "text/plain": [
       "<Figure size 432x288 with 1 Axes>"
      ]
     },
     "metadata": {},
     "output_type": "display_data"
    }
   ],
   "source": [
    "N = np.arange(0, num_epochs)\n",
    "plt.style.use(\"ggplot\")\n",
    "\n",
    "plt.figure()\n",
    "plt.plot(N, H.history[\"loss\"], label=\"train_loss\")\n",
    "plt.plot(N, H.history[\"val_loss\"], label=\"val_loss\")\n",
    "plt.plot(N, H.history[\"acc\"], label=\"train_acc\")\n",
    "plt.plot(N, H.history[\"val_acc\"], label=\"val_acc\")\n",
    "\n",
    "plt.title(\"Training Loss and Accuracy\")\n",
    "plt.xlabel(\"Epoch #\")\n",
    "plt.ylabel(\"Loss/Accuracy\")\n",
    "\n",
    "plt.legend()\n",
    "plt.show()"
   ]
  },
  {
   "cell_type": "markdown",
   "metadata": {},
   "source": [
    "Great news are, that beside `Dense` layer which set up many things in one line, there are many other possibilities in building our model that are listed in keras documentation under __[core layers](https://keras.io/layers/core/)__. \n",
    "\n",
    "Check out the example below, that creates a more complex convolutional neural network. In this case, we will use Fashion MNIST, to try a bit more challenging dataset. It also contains tiny images in grayscale, but this time they depict different clothes, so the task is more difficult.\n",
    "\n",
    "We finally won't flatten our images into 1D vector, but we can keep it represented in 2D. Therefore we will reload the data and perform different reshaping, followed by normalization by maximum value, which is 255.0 for grayscale pixels representation.\n",
    "\n",
    "You may note that shape of each image is not described as `(28, 28)`, but rather as `(28, 28, 1)`. Since we have grayscale images, we keep the last number equal to 1, but if it was for color images, we would replace it to number 3, for Red, Green and Blue channel. We also have to make sure that along first dimension (first axis in other words) we have following data samples, and the next ones are their features."
   ]
  },
  {
   "cell_type": "markdown",
   "metadata": {},
   "source": [
    "### Fashion MNIST + Convolutional Network in Keras"
   ]
  },
  {
   "cell_type": "code",
   "execution_count": 79,
   "metadata": {},
   "outputs": [
    {
     "name": "stdout",
     "output_type": "stream",
     "text": [
      "(60000, 28, 28, 1) (10000, 28, 28, 1)\n"
     ]
    }
   ],
   "source": [
    "((trainX, trainY), (testX, testY)) = keras.datasets.fashion_mnist.load_data()\n",
    "trainX = trainX.reshape((trainX.shape[0], 28, 28, 1))\n",
    "testX = testX.reshape((testX.shape[0], 28, 28, 1))\n",
    "\n",
    "trainX = trainX.astype(\"float32\") / 255.0\n",
    "testX = testX.astype(\"float32\") / 255.0\n",
    "\n",
    "# one-hot encode the training and testing labels\n",
    "trainY = keras.utils.to_categorical(trainY, 10)\n",
    "testY = keras.utils.to_categorical(testY, 10)\n",
    "\n",
    "print(trainX.shape, testX.shape)"
   ]
  },
  {
   "cell_type": "markdown",
   "metadata": {},
   "source": [
    "In the cell below, there is an implementation of `create_model` function that will build convolutional network based on Sequential API. You can see that we can easily add such 'improvements' to the network as Dropout regularization, or Batch Normalization. \n",
    "\n",
    "Also, notice the `Flatten` layer that is mandatory in order to flatten input coming out from previous convolutional layers. \n",
    "\n",
    "The `Conv2D` function defines a 2D convolution layer, which we define by number of filters we want to obtain, followed by filter size. Note that we have `2D` in the function's name and we should therefore specify two-dimensional shape of the filter. It may look like a black-box, as it is supported also with `padding` parameter, and many others."
   ]
  },
  {
   "cell_type": "code",
   "execution_count": 41,
   "metadata": {},
   "outputs": [],
   "source": [
    "def create_model():\n",
    "    model = Sequential()\n",
    "\n",
    "    model.add(Conv2D(32, (3, 3), padding=\"same\", input_shape=(28,28,1)))\n",
    "    model.add(Activation(\"relu\"))\n",
    "    model.add(BatchNormalization(axis=1))\n",
    "    \n",
    "    model.add(Conv2D(32, (3, 3), padding=\"same\"))\n",
    "    model.add(Activation(\"relu\"))\n",
    "    model.add(BatchNormalization(axis=1))\n",
    "    \n",
    "    model.add(MaxPooling2D(pool_size=(2, 2)))\n",
    "    model.add(Dropout(0.25))\n",
    "\n",
    "    model.add(Conv2D(64, (3, 3), padding=\"same\"))\n",
    "    model.add(Activation(\"relu\"))\n",
    "    model.add(BatchNormalization(axis=1))\n",
    "    \n",
    "    model.add(Conv2D(64, (3, 3), padding=\"same\"))\n",
    "    model.add(Activation(\"relu\"))\n",
    "    model.add(BatchNormalization(axis=1))\n",
    "    \n",
    "    model.add(Flatten())\n",
    "    model.add(Dense(512))\n",
    "    model.add(Activation(\"relu\"))\n",
    "    model.add(BatchNormalization())\n",
    "\n",
    "    model.add(Dropout(0.5))\n",
    "    model.add(Dense(10))\n",
    "    model.add(Activation(\"softmax\"))\n",
    "    \n",
    "    return model"
   ]
  },
  {
   "cell_type": "markdown",
   "metadata": {},
   "source": [
    "We will not do the training again, for the major difference would be more time needed to learn more complex task, and instead of that we will explain another way of building models in Keras: a **functional** way."
   ]
  },
  {
   "cell_type": "markdown",
   "metadata": {},
   "source": [
    "### Functional API"
   ]
  },
  {
   "cell_type": "markdown",
   "metadata": {},
   "source": [
    "Functional API in Keras allows to create more flexible models that Sequential API. What we wouldn't be able to do in the Sequential, and what Functional offers, is defining layers that connect to more than just one previous and one next layer. In fact, layers can connect to any other in this API. And this is real in more complex architectures of neural networks currently known.\n",
    "\n",
    "In Functional API:\n",
    " - you can have multiple input,\n",
    " - you can have multiple output,\n",
    " - you can share layers along models,\n",
    " - you can define directed acyclic graphs,\n",
    " - ... and more\n",
    " \n",
    " To begin with, we need some input and output tensors that will define a `Model`. This is why first object we create instantiates `Input` class. "
   ]
  },
  {
   "cell_type": "code",
   "execution_count": 80,
   "metadata": {},
   "outputs": [],
   "source": [
    "# Model input\n",
    "\n",
    "inputs = Input(shape=(28,28,1), name='inputs')"
   ]
  },
  {
   "cell_type": "markdown",
   "metadata": {},
   "source": [
    "Next, we define layer instances that are callable on a tensor, and also return a tensor. Notice the syntax used that involves `(inputs)` tensor first, followed by `(layer)`. "
   ]
  },
  {
   "cell_type": "code",
   "execution_count": 81,
   "metadata": {},
   "outputs": [],
   "source": [
    "# Convolutional part of our model\n",
    "\n",
    "layer = Conv2D(32, (3, 3), padding=\"same\", input_shape=(28,28,1))(inputs)\n",
    "layer = Activation(\"relu\")(layer)\n",
    "layer = BatchNormalization(axis=-1)(layer)\n",
    "\n",
    "layer = Conv2D(32, (3, 3), padding=\"same\")(layer)\n",
    "layer = Activation(\"relu\")(layer)\n",
    "layer = BatchNormalization(axis=-1)(layer)\n",
    "\n",
    "layer = MaxPooling2D(pool_size=(2, 2))(layer)\n",
    "layer = Dropout(0.25)(layer)\n",
    "\n",
    "layer = Conv2D(64, (3, 3), padding=\"same\")(layer)\n",
    "layer = Activation(\"relu\")(layer)\n",
    "layer = BatchNormalization(axis=-1)(layer)\n",
    "\n",
    "layer = Conv2D(64, (3, 3), padding=\"same\")(layer)\n",
    "layer = Activation(\"relu\")(layer)\n",
    "layer = BatchNormalization(axis=-1)(layer)\n",
    "\n",
    "layer = MaxPooling2D(pool_size=(2, 2))(layer)\n",
    "layer = Dropout(0.25)(layer)"
   ]
  },
  {
   "cell_type": "markdown",
   "metadata": {},
   "source": [
    "We defined some first convolutional layers for the model. We continue with the cell below, but we want to store tensor corresponding to `Flatten` layer in a different variable for example (and we will also use it later). "
   ]
  },
  {
   "cell_type": "code",
   "execution_count": 82,
   "metadata": {},
   "outputs": [],
   "source": [
    "features = Flatten(name='features')(layer)\n",
    "\n",
    "layer = Dense(512)(features)\n",
    "layer = Activation(\"relu\")(layer)\n",
    "layer = BatchNormalization()(layer)\n",
    "layer = Dropout(0.5)(layer)\n",
    "\n",
    "layer = Dense(10)(layer)\n",
    "layer = Activation(\"softmax\")(layer)"
   ]
  },
  {
   "cell_type": "markdown",
   "metadata": {},
   "source": [
    "Next, we define the model itself instantiating `Model` class. "
   ]
  },
  {
   "cell_type": "code",
   "execution_count": 83,
   "metadata": {
    "scrolled": true
   },
   "outputs": [
    {
     "name": "stdout",
     "output_type": "stream",
     "text": [
      "_________________________________________________________________\n",
      "Layer (type)                 Output Shape              Param #   \n",
      "=================================================================\n",
      "inputs (InputLayer)          (None, 28, 28, 1)         0         \n",
      "_________________________________________________________________\n",
      "conv2d_17 (Conv2D)           (None, 28, 28, 32)        320       \n",
      "_________________________________________________________________\n",
      "activation_23 (Activation)   (None, 28, 28, 32)        0         \n",
      "_________________________________________________________________\n",
      "batch_normalization_20 (Batc (None, 28, 28, 32)        128       \n",
      "_________________________________________________________________\n",
      "conv2d_18 (Conv2D)           (None, 28, 28, 32)        9248      \n",
      "_________________________________________________________________\n",
      "activation_24 (Activation)   (None, 28, 28, 32)        0         \n",
      "_________________________________________________________________\n",
      "batch_normalization_21 (Batc (None, 28, 28, 32)        128       \n",
      "_________________________________________________________________\n",
      "max_pooling2d_9 (MaxPooling2 (None, 14, 14, 32)        0         \n",
      "_________________________________________________________________\n",
      "dropout_12 (Dropout)         (None, 14, 14, 32)        0         \n",
      "_________________________________________________________________\n",
      "conv2d_19 (Conv2D)           (None, 14, 14, 64)        18496     \n",
      "_________________________________________________________________\n",
      "activation_25 (Activation)   (None, 14, 14, 64)        0         \n",
      "_________________________________________________________________\n",
      "batch_normalization_22 (Batc (None, 14, 14, 64)        256       \n",
      "_________________________________________________________________\n",
      "conv2d_20 (Conv2D)           (None, 14, 14, 64)        36928     \n",
      "_________________________________________________________________\n",
      "activation_26 (Activation)   (None, 14, 14, 64)        0         \n",
      "_________________________________________________________________\n",
      "batch_normalization_23 (Batc (None, 14, 14, 64)        256       \n",
      "_________________________________________________________________\n",
      "max_pooling2d_10 (MaxPooling (None, 7, 7, 64)          0         \n",
      "_________________________________________________________________\n",
      "dropout_13 (Dropout)         (None, 7, 7, 64)          0         \n",
      "_________________________________________________________________\n",
      "features (Flatten)           (None, 3136)              0         \n",
      "_________________________________________________________________\n",
      "dense_7 (Dense)              (None, 512)               1606144   \n",
      "_________________________________________________________________\n",
      "activation_27 (Activation)   (None, 512)               0         \n",
      "_________________________________________________________________\n",
      "batch_normalization_24 (Batc (None, 512)               2048      \n",
      "_________________________________________________________________\n",
      "dropout_14 (Dropout)         (None, 512)               0         \n",
      "_________________________________________________________________\n",
      "dense_8 (Dense)              (None, 10)                5130      \n",
      "_________________________________________________________________\n",
      "activation_28 (Activation)   (None, 10)                0         \n",
      "=================================================================\n",
      "Total params: 1,679,082\n",
      "Trainable params: 1,677,674\n",
      "Non-trainable params: 1,408\n",
      "_________________________________________________________________\n"
     ]
    }
   ],
   "source": [
    "model.summary()"
   ]
  },
  {
   "cell_type": "markdown",
   "metadata": {},
   "source": [
    "You can train the model below if you want to, with a sufficient number of epochs (preferably more than 10), or just proceed."
   ]
  },
  {
   "cell_type": "code",
   "execution_count": 84,
   "metadata": {
    "collapsed": true
   },
   "outputs": [
    {
     "name": "stdout",
     "output_type": "stream",
     "text": [
      "Train on 60000 samples, validate on 10000 samples\n",
      "Epoch 1/10\n"
     ]
    },
    {
     "ename": "KeyboardInterrupt",
     "evalue": "",
     "output_type": "error",
     "traceback": [
      "\u001b[1;31m---------------------------------------------------------------------------\u001b[0m",
      "\u001b[1;31mKeyboardInterrupt\u001b[0m                         Traceback (most recent call last)",
      "\u001b[1;32m<ipython-input-84-438f4cbe165e>\u001b[0m in \u001b[0;36m<module>\u001b[1;34m\u001b[0m\n\u001b[0;32m      4\u001b[0m \u001b[1;33m\u001b[0m\u001b[0m\n\u001b[0;32m      5\u001b[0m H = model.fit(trainX, trainY, validation_data=(testX, testY),\n\u001b[1;32m----> 6\u001b[1;33m               batch_size=512, epochs=10)\n\u001b[0m",
      "\u001b[1;32m~\\Anaconda3\\envs\\py36\\lib\\site-packages\\keras\\engine\\training.py\u001b[0m in \u001b[0;36mfit\u001b[1;34m(self, x, y, batch_size, epochs, verbose, callbacks, validation_split, validation_data, shuffle, class_weight, sample_weight, initial_epoch, steps_per_epoch, validation_steps, **kwargs)\u001b[0m\n\u001b[0;32m   1035\u001b[0m                                         \u001b[0minitial_epoch\u001b[0m\u001b[1;33m=\u001b[0m\u001b[0minitial_epoch\u001b[0m\u001b[1;33m,\u001b[0m\u001b[1;33m\u001b[0m\u001b[0m\n\u001b[0;32m   1036\u001b[0m                                         \u001b[0msteps_per_epoch\u001b[0m\u001b[1;33m=\u001b[0m\u001b[0msteps_per_epoch\u001b[0m\u001b[1;33m,\u001b[0m\u001b[1;33m\u001b[0m\u001b[0m\n\u001b[1;32m-> 1037\u001b[1;33m                                         validation_steps=validation_steps)\n\u001b[0m\u001b[0;32m   1038\u001b[0m \u001b[1;33m\u001b[0m\u001b[0m\n\u001b[0;32m   1039\u001b[0m     def evaluate(self, x=None, y=None,\n",
      "\u001b[1;32m~\\Anaconda3\\envs\\py36\\lib\\site-packages\\keras\\engine\\training_arrays.py\u001b[0m in \u001b[0;36mfit_loop\u001b[1;34m(model, f, ins, out_labels, batch_size, epochs, verbose, callbacks, val_f, val_ins, shuffle, callback_metrics, initial_epoch, steps_per_epoch, validation_steps)\u001b[0m\n\u001b[0;32m    197\u001b[0m                     \u001b[0mins_batch\u001b[0m\u001b[1;33m[\u001b[0m\u001b[0mi\u001b[0m\u001b[1;33m]\u001b[0m \u001b[1;33m=\u001b[0m \u001b[0mins_batch\u001b[0m\u001b[1;33m[\u001b[0m\u001b[0mi\u001b[0m\u001b[1;33m]\u001b[0m\u001b[1;33m.\u001b[0m\u001b[0mtoarray\u001b[0m\u001b[1;33m(\u001b[0m\u001b[1;33m)\u001b[0m\u001b[1;33m\u001b[0m\u001b[0m\n\u001b[0;32m    198\u001b[0m \u001b[1;33m\u001b[0m\u001b[0m\n\u001b[1;32m--> 199\u001b[1;33m                 \u001b[0mouts\u001b[0m \u001b[1;33m=\u001b[0m \u001b[0mf\u001b[0m\u001b[1;33m(\u001b[0m\u001b[0mins_batch\u001b[0m\u001b[1;33m)\u001b[0m\u001b[1;33m\u001b[0m\u001b[0m\n\u001b[0m\u001b[0;32m    200\u001b[0m                 \u001b[0mouts\u001b[0m \u001b[1;33m=\u001b[0m \u001b[0mto_list\u001b[0m\u001b[1;33m(\u001b[0m\u001b[0mouts\u001b[0m\u001b[1;33m)\u001b[0m\u001b[1;33m\u001b[0m\u001b[0m\n\u001b[0;32m    201\u001b[0m                 \u001b[1;32mfor\u001b[0m \u001b[0ml\u001b[0m\u001b[1;33m,\u001b[0m \u001b[0mo\u001b[0m \u001b[1;32min\u001b[0m \u001b[0mzip\u001b[0m\u001b[1;33m(\u001b[0m\u001b[0mout_labels\u001b[0m\u001b[1;33m,\u001b[0m \u001b[0mouts\u001b[0m\u001b[1;33m)\u001b[0m\u001b[1;33m:\u001b[0m\u001b[1;33m\u001b[0m\u001b[0m\n",
      "\u001b[1;32m~\\Anaconda3\\envs\\py36\\lib\\site-packages\\keras\\backend\\tensorflow_backend.py\u001b[0m in \u001b[0;36m__call__\u001b[1;34m(self, inputs)\u001b[0m\n\u001b[0;32m   2664\u001b[0m                 \u001b[1;32mreturn\u001b[0m \u001b[0mself\u001b[0m\u001b[1;33m.\u001b[0m\u001b[0m_legacy_call\u001b[0m\u001b[1;33m(\u001b[0m\u001b[0minputs\u001b[0m\u001b[1;33m)\u001b[0m\u001b[1;33m\u001b[0m\u001b[0m\n\u001b[0;32m   2665\u001b[0m \u001b[1;33m\u001b[0m\u001b[0m\n\u001b[1;32m-> 2666\u001b[1;33m             \u001b[1;32mreturn\u001b[0m \u001b[0mself\u001b[0m\u001b[1;33m.\u001b[0m\u001b[0m_call\u001b[0m\u001b[1;33m(\u001b[0m\u001b[0minputs\u001b[0m\u001b[1;33m)\u001b[0m\u001b[1;33m\u001b[0m\u001b[0m\n\u001b[0m\u001b[0;32m   2667\u001b[0m         \u001b[1;32melse\u001b[0m\u001b[1;33m:\u001b[0m\u001b[1;33m\u001b[0m\u001b[0m\n\u001b[0;32m   2668\u001b[0m             \u001b[1;32mif\u001b[0m \u001b[0mpy_any\u001b[0m\u001b[1;33m(\u001b[0m\u001b[0mis_tensor\u001b[0m\u001b[1;33m(\u001b[0m\u001b[0mx\u001b[0m\u001b[1;33m)\u001b[0m \u001b[1;32mfor\u001b[0m \u001b[0mx\u001b[0m \u001b[1;32min\u001b[0m \u001b[0minputs\u001b[0m\u001b[1;33m)\u001b[0m\u001b[1;33m:\u001b[0m\u001b[1;33m\u001b[0m\u001b[0m\n",
      "\u001b[1;32m~\\Anaconda3\\envs\\py36\\lib\\site-packages\\keras\\backend\\tensorflow_backend.py\u001b[0m in \u001b[0;36m_call\u001b[1;34m(self, inputs)\u001b[0m\n\u001b[0;32m   2634\u001b[0m                                 \u001b[0msymbol_vals\u001b[0m\u001b[1;33m,\u001b[0m\u001b[1;33m\u001b[0m\u001b[0m\n\u001b[0;32m   2635\u001b[0m                                 session)\n\u001b[1;32m-> 2636\u001b[1;33m         \u001b[0mfetched\u001b[0m \u001b[1;33m=\u001b[0m \u001b[0mself\u001b[0m\u001b[1;33m.\u001b[0m\u001b[0m_callable_fn\u001b[0m\u001b[1;33m(\u001b[0m\u001b[1;33m*\u001b[0m\u001b[0marray_vals\u001b[0m\u001b[1;33m)\u001b[0m\u001b[1;33m\u001b[0m\u001b[0m\n\u001b[0m\u001b[0;32m   2637\u001b[0m         \u001b[1;32mreturn\u001b[0m \u001b[0mfetched\u001b[0m\u001b[1;33m[\u001b[0m\u001b[1;33m:\u001b[0m\u001b[0mlen\u001b[0m\u001b[1;33m(\u001b[0m\u001b[0mself\u001b[0m\u001b[1;33m.\u001b[0m\u001b[0moutputs\u001b[0m\u001b[1;33m)\u001b[0m\u001b[1;33m]\u001b[0m\u001b[1;33m\u001b[0m\u001b[0m\n\u001b[0;32m   2638\u001b[0m \u001b[1;33m\u001b[0m\u001b[0m\n",
      "\u001b[1;32m~\\Anaconda3\\envs\\py36\\lib\\site-packages\\tensorflow\\python\\client\\session.py\u001b[0m in \u001b[0;36m__call__\u001b[1;34m(self, *args, **kwargs)\u001b[0m\n\u001b[0;32m   1437\u001b[0m           ret = tf_session.TF_SessionRunCallable(\n\u001b[0;32m   1438\u001b[0m               \u001b[0mself\u001b[0m\u001b[1;33m.\u001b[0m\u001b[0m_session\u001b[0m\u001b[1;33m.\u001b[0m\u001b[0m_session\u001b[0m\u001b[1;33m,\u001b[0m \u001b[0mself\u001b[0m\u001b[1;33m.\u001b[0m\u001b[0m_handle\u001b[0m\u001b[1;33m,\u001b[0m \u001b[0margs\u001b[0m\u001b[1;33m,\u001b[0m \u001b[0mstatus\u001b[0m\u001b[1;33m,\u001b[0m\u001b[1;33m\u001b[0m\u001b[0m\n\u001b[1;32m-> 1439\u001b[1;33m               run_metadata_ptr)\n\u001b[0m\u001b[0;32m   1440\u001b[0m         \u001b[1;32mif\u001b[0m \u001b[0mrun_metadata\u001b[0m\u001b[1;33m:\u001b[0m\u001b[1;33m\u001b[0m\u001b[0m\n\u001b[0;32m   1441\u001b[0m           \u001b[0mproto_data\u001b[0m \u001b[1;33m=\u001b[0m \u001b[0mtf_session\u001b[0m\u001b[1;33m.\u001b[0m\u001b[0mTF_GetBuffer\u001b[0m\u001b[1;33m(\u001b[0m\u001b[0mrun_metadata_ptr\u001b[0m\u001b[1;33m)\u001b[0m\u001b[1;33m\u001b[0m\u001b[0m\n",
      "\u001b[1;31mKeyboardInterrupt\u001b[0m: "
     ]
    }
   ],
   "source": [
    "model = Model(inputs = inputs, outputs = layer)\n",
    "model.compile(optimizer=SGD(), loss='categorical_crossentropy',\n",
    "             metrics=['accuracy'])\n",
    "\n",
    "H = model.fit(trainX, trainY, validation_data=(testX, testY),\n",
    "              batch_size=512, epochs=10)"
   ]
  },
  {
   "cell_type": "markdown",
   "metadata": {},
   "source": [
    "### Functional API for Transfer Learning"
   ]
  },
  {
   "cell_type": "markdown",
   "metadata": {},
   "source": [
    "We can show the advantage of Functional API by applying so called transfer learning. In this tutorial's directory, you will find `fashion_model.h5` file that contains parameters of a model that was already trained using Fashion MNIST data. We could take same features learned in the convolutional part of the model, and re-train the following dense layers on a specific problem that we have. \n",
    "\n",
    "In order to do so, we have to recreate the model first , so that it is the same as the one that was trained. Given that, it is clear how to read the `.h5` file. It is a common file extension for storing models weights. \n",
    "\n",
    "In the below example, we load MNIST digits dataset again, because we want to take Fashion MNIST's filters discovered and apply it to some new problem. Not very fortunately, in this case the problem is very simple. We reproduce the model and store it in `old_model` variable. \n",
    "\n",
    "Notice how it is easy to load weights with a `.load_weights` method, unless the models actually match. Accessing its layers is as simple as using `.layers` attribute, and we can further freeze each of them by setting single layer's flag `.trainable` to **False**. We can also access particular layer by name, as we can see in:\n",
    "> `old_model.get_layer('inputs').output`\n",
    "\n",
    "and take its output at our wish. "
   ]
  },
  {
   "cell_type": "code",
   "execution_count": 85,
   "metadata": {},
   "outputs": [],
   "source": [
    "# Load MNIST digits again\n",
    "((trainX, trainY), (testX, testY)) = keras.datasets.mnist.load_data()\n",
    "trainX = trainX.reshape((trainX.shape[0], 28, 28, 1))\n",
    "testX = testX.reshape((testX.shape[0], 28, 28, 1))\n",
    "trainX = trainX.astype(\"float32\") / 255.0\n",
    "testX = testX.astype(\"float32\") / 255.0\n",
    "\n",
    "# one-hot encode the training and testing labels\n",
    "trainY = keras.utils.to_categorical(trainY, 10)\n",
    "testY = keras.utils.to_categorical(testY, 10)\n",
    "\n",
    "# Reproduce the model sufficient fashion_model.h5\n",
    "old_model = Model(inputs = inputs, outputs = layer)\n",
    "\n",
    "old_model.compile(optimizer=SGD(), loss='mse')\n",
    "old_model.load_weights('fashion_model.h5')\n",
    "for layer in old_model.layers:\n",
    "    layer.trainable = False # freezes layer's parameters that were loaded\n",
    "\n",
    "# Start with previously defined FEATURES layer and continue with next layers\n",
    "layer = Dense(512)(old_model.get_layer('features').output)\n",
    "layer = Activation(\"relu\")(layer)\n",
    "layer = BatchNormalization()(layer)\n",
    "layer = Dropout(0.5)(layer)\n",
    "\n",
    "layer = Dense(10)(layer)\n",
    "layer = Activation(\"softmax\")(layer)\n",
    "\n",
    "model = Model(inputs = old_model.get_layer('inputs').output, outputs = layer)"
   ]
  },
  {
   "cell_type": "markdown",
   "metadata": {},
   "source": [
    "In the cell above, we used `features` layer that was previously highlighted when building an original model, and continued with it to define another network. Starting at the input, and only until that `features` layer, we loaded already trained weights and froze them. \n",
    "\n",
    "Summing up, the only thing that the network has to learn now, is to look at the filters we give to it, and find connections between them so that it classifies digits as well as possible. With only slight alterations, we did some transfer learning and we can run the model just like we already did a few times.\n",
    "\n",
    "Feel free to check how it works in the cell below."
   ]
  },
  {
   "cell_type": "code",
   "execution_count": 86,
   "metadata": {
    "scrolled": true
   },
   "outputs": [
    {
     "name": "stdout",
     "output_type": "stream",
     "text": [
      "_________________________________________________________________\n",
      "Layer (type)                 Output Shape              Param #   \n",
      "=================================================================\n",
      "inputs (InputLayer)          (None, 28, 28, 1)         0         \n",
      "_________________________________________________________________\n",
      "conv2d_21 (Conv2D)           (None, 28, 28, 32)        320       \n",
      "_________________________________________________________________\n",
      "activation_29 (Activation)   (None, 28, 28, 32)        0         \n",
      "_________________________________________________________________\n",
      "batch_normalization_25 (Batc (None, 28, 28, 32)        128       \n",
      "_________________________________________________________________\n",
      "conv2d_22 (Conv2D)           (None, 28, 28, 32)        9248      \n",
      "_________________________________________________________________\n",
      "activation_30 (Activation)   (None, 28, 28, 32)        0         \n",
      "_________________________________________________________________\n",
      "batch_normalization_26 (Batc (None, 28, 28, 32)        128       \n",
      "_________________________________________________________________\n",
      "max_pooling2d_11 (MaxPooling (None, 14, 14, 32)        0         \n",
      "_________________________________________________________________\n",
      "dropout_15 (Dropout)         (None, 14, 14, 32)        0         \n",
      "_________________________________________________________________\n",
      "conv2d_23 (Conv2D)           (None, 14, 14, 64)        18496     \n",
      "_________________________________________________________________\n",
      "activation_31 (Activation)   (None, 14, 14, 64)        0         \n",
      "_________________________________________________________________\n",
      "batch_normalization_27 (Batc (None, 14, 14, 64)        256       \n",
      "_________________________________________________________________\n",
      "conv2d_24 (Conv2D)           (None, 14, 14, 64)        36928     \n",
      "_________________________________________________________________\n",
      "activation_32 (Activation)   (None, 14, 14, 64)        0         \n",
      "_________________________________________________________________\n",
      "batch_normalization_28 (Batc (None, 14, 14, 64)        256       \n",
      "_________________________________________________________________\n",
      "max_pooling2d_12 (MaxPooling (None, 7, 7, 64)          0         \n",
      "_________________________________________________________________\n",
      "dropout_16 (Dropout)         (None, 7, 7, 64)          0         \n",
      "_________________________________________________________________\n",
      "features (Flatten)           (None, 3136)              0         \n",
      "_________________________________________________________________\n",
      "dense_11 (Dense)             (None, 512)               1606144   \n",
      "_________________________________________________________________\n",
      "activation_35 (Activation)   (None, 512)               0         \n",
      "_________________________________________________________________\n",
      "batch_normalization_30 (Batc (None, 512)               2048      \n",
      "_________________________________________________________________\n",
      "dropout_18 (Dropout)         (None, 512)               0         \n",
      "_________________________________________________________________\n",
      "dense_12 (Dense)             (None, 10)                5130      \n",
      "_________________________________________________________________\n",
      "activation_36 (Activation)   (None, 10)                0         \n",
      "=================================================================\n",
      "Total params: 1,679,082\n",
      "Trainable params: 1,612,298\n",
      "Non-trainable params: 66,784\n",
      "_________________________________________________________________\n",
      "Train on 60000 samples, validate on 10000 samples\n",
      "Epoch 1/5\n",
      " 4096/60000 [=>............................] - ETA: 3:30 - loss: 2.7016 - acc: 0.2527"
     ]
    },
    {
     "ename": "KeyboardInterrupt",
     "evalue": "",
     "output_type": "error",
     "traceback": [
      "\u001b[1;31m---------------------------------------------------------------------------\u001b[0m",
      "\u001b[1;31mKeyboardInterrupt\u001b[0m                         Traceback (most recent call last)",
      "\u001b[1;32m<ipython-input-86-5b3377f3b457>\u001b[0m in \u001b[0;36m<module>\u001b[1;34m\u001b[0m\n\u001b[0;32m      6\u001b[0m \u001b[0mBS\u001b[0m \u001b[1;33m=\u001b[0m \u001b[1;36m512\u001b[0m\u001b[1;33m\u001b[0m\u001b[0m\n\u001b[0;32m      7\u001b[0m H = model.fit(trainX, trainY, validation_data=(testX, testY),\n\u001b[1;32m----> 8\u001b[1;33m               batch_size=BS, epochs=NUM_EPOCHS)\n\u001b[0m",
      "\u001b[1;32m~\\Anaconda3\\envs\\py36\\lib\\site-packages\\keras\\engine\\training.py\u001b[0m in \u001b[0;36mfit\u001b[1;34m(self, x, y, batch_size, epochs, verbose, callbacks, validation_split, validation_data, shuffle, class_weight, sample_weight, initial_epoch, steps_per_epoch, validation_steps, **kwargs)\u001b[0m\n\u001b[0;32m   1035\u001b[0m                                         \u001b[0minitial_epoch\u001b[0m\u001b[1;33m=\u001b[0m\u001b[0minitial_epoch\u001b[0m\u001b[1;33m,\u001b[0m\u001b[1;33m\u001b[0m\u001b[0m\n\u001b[0;32m   1036\u001b[0m                                         \u001b[0msteps_per_epoch\u001b[0m\u001b[1;33m=\u001b[0m\u001b[0msteps_per_epoch\u001b[0m\u001b[1;33m,\u001b[0m\u001b[1;33m\u001b[0m\u001b[0m\n\u001b[1;32m-> 1037\u001b[1;33m                                         validation_steps=validation_steps)\n\u001b[0m\u001b[0;32m   1038\u001b[0m \u001b[1;33m\u001b[0m\u001b[0m\n\u001b[0;32m   1039\u001b[0m     def evaluate(self, x=None, y=None,\n",
      "\u001b[1;32m~\\Anaconda3\\envs\\py36\\lib\\site-packages\\keras\\engine\\training_arrays.py\u001b[0m in \u001b[0;36mfit_loop\u001b[1;34m(model, f, ins, out_labels, batch_size, epochs, verbose, callbacks, val_f, val_ins, shuffle, callback_metrics, initial_epoch, steps_per_epoch, validation_steps)\u001b[0m\n\u001b[0;32m    197\u001b[0m                     \u001b[0mins_batch\u001b[0m\u001b[1;33m[\u001b[0m\u001b[0mi\u001b[0m\u001b[1;33m]\u001b[0m \u001b[1;33m=\u001b[0m \u001b[0mins_batch\u001b[0m\u001b[1;33m[\u001b[0m\u001b[0mi\u001b[0m\u001b[1;33m]\u001b[0m\u001b[1;33m.\u001b[0m\u001b[0mtoarray\u001b[0m\u001b[1;33m(\u001b[0m\u001b[1;33m)\u001b[0m\u001b[1;33m\u001b[0m\u001b[0m\n\u001b[0;32m    198\u001b[0m \u001b[1;33m\u001b[0m\u001b[0m\n\u001b[1;32m--> 199\u001b[1;33m                 \u001b[0mouts\u001b[0m \u001b[1;33m=\u001b[0m \u001b[0mf\u001b[0m\u001b[1;33m(\u001b[0m\u001b[0mins_batch\u001b[0m\u001b[1;33m)\u001b[0m\u001b[1;33m\u001b[0m\u001b[0m\n\u001b[0m\u001b[0;32m    200\u001b[0m                 \u001b[0mouts\u001b[0m \u001b[1;33m=\u001b[0m \u001b[0mto_list\u001b[0m\u001b[1;33m(\u001b[0m\u001b[0mouts\u001b[0m\u001b[1;33m)\u001b[0m\u001b[1;33m\u001b[0m\u001b[0m\n\u001b[0;32m    201\u001b[0m                 \u001b[1;32mfor\u001b[0m \u001b[0ml\u001b[0m\u001b[1;33m,\u001b[0m \u001b[0mo\u001b[0m \u001b[1;32min\u001b[0m \u001b[0mzip\u001b[0m\u001b[1;33m(\u001b[0m\u001b[0mout_labels\u001b[0m\u001b[1;33m,\u001b[0m \u001b[0mouts\u001b[0m\u001b[1;33m)\u001b[0m\u001b[1;33m:\u001b[0m\u001b[1;33m\u001b[0m\u001b[0m\n",
      "\u001b[1;32m~\\Anaconda3\\envs\\py36\\lib\\site-packages\\keras\\backend\\tensorflow_backend.py\u001b[0m in \u001b[0;36m__call__\u001b[1;34m(self, inputs)\u001b[0m\n\u001b[0;32m   2664\u001b[0m                 \u001b[1;32mreturn\u001b[0m \u001b[0mself\u001b[0m\u001b[1;33m.\u001b[0m\u001b[0m_legacy_call\u001b[0m\u001b[1;33m(\u001b[0m\u001b[0minputs\u001b[0m\u001b[1;33m)\u001b[0m\u001b[1;33m\u001b[0m\u001b[0m\n\u001b[0;32m   2665\u001b[0m \u001b[1;33m\u001b[0m\u001b[0m\n\u001b[1;32m-> 2666\u001b[1;33m             \u001b[1;32mreturn\u001b[0m \u001b[0mself\u001b[0m\u001b[1;33m.\u001b[0m\u001b[0m_call\u001b[0m\u001b[1;33m(\u001b[0m\u001b[0minputs\u001b[0m\u001b[1;33m)\u001b[0m\u001b[1;33m\u001b[0m\u001b[0m\n\u001b[0m\u001b[0;32m   2667\u001b[0m         \u001b[1;32melse\u001b[0m\u001b[1;33m:\u001b[0m\u001b[1;33m\u001b[0m\u001b[0m\n\u001b[0;32m   2668\u001b[0m             \u001b[1;32mif\u001b[0m \u001b[0mpy_any\u001b[0m\u001b[1;33m(\u001b[0m\u001b[0mis_tensor\u001b[0m\u001b[1;33m(\u001b[0m\u001b[0mx\u001b[0m\u001b[1;33m)\u001b[0m \u001b[1;32mfor\u001b[0m \u001b[0mx\u001b[0m \u001b[1;32min\u001b[0m \u001b[0minputs\u001b[0m\u001b[1;33m)\u001b[0m\u001b[1;33m:\u001b[0m\u001b[1;33m\u001b[0m\u001b[0m\n",
      "\u001b[1;32m~\\Anaconda3\\envs\\py36\\lib\\site-packages\\keras\\backend\\tensorflow_backend.py\u001b[0m in \u001b[0;36m_call\u001b[1;34m(self, inputs)\u001b[0m\n\u001b[0;32m   2634\u001b[0m                                 \u001b[0msymbol_vals\u001b[0m\u001b[1;33m,\u001b[0m\u001b[1;33m\u001b[0m\u001b[0m\n\u001b[0;32m   2635\u001b[0m                                 session)\n\u001b[1;32m-> 2636\u001b[1;33m         \u001b[0mfetched\u001b[0m \u001b[1;33m=\u001b[0m \u001b[0mself\u001b[0m\u001b[1;33m.\u001b[0m\u001b[0m_callable_fn\u001b[0m\u001b[1;33m(\u001b[0m\u001b[1;33m*\u001b[0m\u001b[0marray_vals\u001b[0m\u001b[1;33m)\u001b[0m\u001b[1;33m\u001b[0m\u001b[0m\n\u001b[0m\u001b[0;32m   2637\u001b[0m         \u001b[1;32mreturn\u001b[0m \u001b[0mfetched\u001b[0m\u001b[1;33m[\u001b[0m\u001b[1;33m:\u001b[0m\u001b[0mlen\u001b[0m\u001b[1;33m(\u001b[0m\u001b[0mself\u001b[0m\u001b[1;33m.\u001b[0m\u001b[0moutputs\u001b[0m\u001b[1;33m)\u001b[0m\u001b[1;33m]\u001b[0m\u001b[1;33m\u001b[0m\u001b[0m\n\u001b[0;32m   2638\u001b[0m \u001b[1;33m\u001b[0m\u001b[0m\n",
      "\u001b[1;32m~\\Anaconda3\\envs\\py36\\lib\\site-packages\\tensorflow\\python\\client\\session.py\u001b[0m in \u001b[0;36m__call__\u001b[1;34m(self, *args, **kwargs)\u001b[0m\n\u001b[0;32m   1437\u001b[0m           ret = tf_session.TF_SessionRunCallable(\n\u001b[0;32m   1438\u001b[0m               \u001b[0mself\u001b[0m\u001b[1;33m.\u001b[0m\u001b[0m_session\u001b[0m\u001b[1;33m.\u001b[0m\u001b[0m_session\u001b[0m\u001b[1;33m,\u001b[0m \u001b[0mself\u001b[0m\u001b[1;33m.\u001b[0m\u001b[0m_handle\u001b[0m\u001b[1;33m,\u001b[0m \u001b[0margs\u001b[0m\u001b[1;33m,\u001b[0m \u001b[0mstatus\u001b[0m\u001b[1;33m,\u001b[0m\u001b[1;33m\u001b[0m\u001b[0m\n\u001b[1;32m-> 1439\u001b[1;33m               run_metadata_ptr)\n\u001b[0m\u001b[0;32m   1440\u001b[0m         \u001b[1;32mif\u001b[0m \u001b[0mrun_metadata\u001b[0m\u001b[1;33m:\u001b[0m\u001b[1;33m\u001b[0m\u001b[0m\n\u001b[0;32m   1441\u001b[0m           \u001b[0mproto_data\u001b[0m \u001b[1;33m=\u001b[0m \u001b[0mtf_session\u001b[0m\u001b[1;33m.\u001b[0m\u001b[0mTF_GetBuffer\u001b[0m\u001b[1;33m(\u001b[0m\u001b[0mrun_metadata_ptr\u001b[0m\u001b[1;33m)\u001b[0m\u001b[1;33m\u001b[0m\u001b[0m\n",
      "\u001b[1;31mKeyboardInterrupt\u001b[0m: "
     ]
    }
   ],
   "source": [
    "model.compile(loss=\"categorical_crossentropy\", optimizer=SGD(), \n",
    "              metrics=[\"accuracy\"])\n",
    "\n",
    "NUM_EPOCHS = 5\n",
    "BS = 512\n",
    "H = model.fit(trainX, trainY, validation_data=(testX, testY),\n",
    "              batch_size=BS, epochs=NUM_EPOCHS)"
   ]
  },
  {
   "cell_type": "markdown",
   "metadata": {},
   "source": [
    "We will finish the tutorial for now, providing a brief example what else a Functional API could do. However, the possibilities are endless and you can drown in keras documentation very easily. \n",
    "\n",
    "We can create an autoencoder and access its middle part, where the code is stored. In order to do so, we need to use the same logic as we did in the previous example, making use of storing different tensors at our interest in different variables, as well as proper naming the layers."
   ]
  },
  {
   "cell_type": "markdown",
   "metadata": {},
   "source": [
    "### Functional API for Autoencoders ..."
   ]
  },
  {
   "cell_type": "code",
   "execution_count": 98,
   "metadata": {
    "scrolled": true
   },
   "outputs": [
    {
     "data": {
      "image/png": "[encoded data removed]",
      "text/plain": [
       "<Figure size 432x288 with 1 Axes>"
      ]
     },
     "metadata": {},
     "output_type": "display_data"
    }
   ],
   "source": [
    "from keras.optimizers import adam\n",
    "\n",
    "# Load data\n",
    "csv = np.genfromtxt('data/banknotes.csv', dtype=np.float32, delimiter=\",\")\n",
    "\n",
    "Ys = csv[:,[-1]]\n",
    "Xs = csv[:,:-1]\n",
    "means = np.mean(Xs, 0)\n",
    "stdevs = np.std(Xs, 0)\n",
    "Xs = (Xs-means)/stdevs\n",
    "\n",
    "# Build model\n",
    "inputs = Input(shape=(4,),name='inputs')\n",
    "\n",
    "layer = Dense(16)(inputs)\n",
    "layer = Activation(LeakyReLU())(layer)\n",
    "\n",
    "layer = Dense(8)(layer)\n",
    "layer = Activation(LeakyReLU())(layer)\n",
    "\n",
    "layer = Dense(2, name='encoded')(layer)\n",
    "layer = Activation(LeakyReLU())(layer)\n",
    "\n",
    "layer = Dense(8)(layer)\n",
    "layer = Activation(LeakyReLU())(layer)\n",
    "\n",
    "layer = Dense(16)(layer)\n",
    "layer = Activation(LeakyReLU())(layer)\n",
    "\n",
    "layer = Dense(4)(layer)\n",
    "\n",
    "auto_encoder = Model(inputs = inputs, outputs = layer)\n",
    "\n",
    "# Compile and Train Model\n",
    "opt = adam(lr=5e-4)\n",
    "auto_encoder.compile(loss=\"mse\", optimizer=opt)\n",
    "H = auto_encoder.fit(Xs, Xs, batch_size=30, epochs=300, verbose=0)\n",
    "\n",
    "# Build encoder that will output the Code\n",
    "encoder = Model(inputs = inputs, outputs = auto_encoder.get_layer('encoded').output)\n",
    "encoded = encoder.predict(Xs)\n",
    "colors = Ys.flatten()\n",
    "\n",
    "# Visualize the code that the autoencoder determinedb\n",
    "plt.scatter(encoded[:, 0], encoded[:, 1], c=colors, cmap='jet', alpha=0.5)\n",
    "plt.title('Visualization of the encoded layer')\n",
    "plt.show()"
   ]
  },
  {
   "cell_type": "markdown",
   "metadata": {},
   "source": [
    "# Summary"
   ]
  },
  {
   "cell_type": "markdown",
   "metadata": {},
   "source": [
    "In this tutorial, I shared my knowledle and understanding on both TensorFlow and Keras, in few different applications of problems. A great advantage over using Python along those two libraries is accesibility of the documentation. The community is also big and finds answers to many questions that beginners may have. \n",
    "\n",
    "The first framework described, TensorFlow, allows much low-level access to creating graphs. On the other hand, Keras is high-level framework and sometimes seems as not requiring much knowledge from its user. Therefore, it is very important for the devleloper to understand how things work and not only to use them.\n",
    "\n",
    "I really hope to continue with such tutorials in the future. :)\n",
    "\n",
    "Thank you!"
   ]
  },
  {
   "cell_type": "markdown",
   "metadata": {},
   "source": [
    "REFERENCES:\n",
    "- this tutorial was strongly based on TensorFlow and Keras documentations   \n",
    "- https://medium.com/@ouwenhuang/tensorflow-graphs-are-just-protobufs-9df51fc7d08d\n",
    "- https://medium.com/themlblog/getting-started-with-tensorflow-constants-variables-placeholders-and-sessions-80900727b489 \n",
    "- https://developers.google.com/protocol-buffers/\n",
    "- http://yann.lecun.com/exdb/mnist/\n",
    "- https://jovianlin.io/keras-models-sequential-vs-functional/\n",
    "- https://towardsdatascience.com/building-a-convolutional-neural-network-cnn-in-keras-329fbbadc5f5"
   ]
  }
 ],
 "metadata": {
  "kernelspec": {
   "display_name": "Python 3",
   "language": "python",
   "name": "python3"
  },
  "language_info": {
   "codemirror_mode": {
    "name": "ipython",
    "version": 3
   },
   "file_extension": ".py",
   "mimetype": "text/x-python",
   "name": "python",
   "nbconvert_exporter": "python",
   "pygments_lexer": "ipython3",
   "version": "3.6.6"
  }
 },
 "nbformat": 4,
 "nbformat_minor": 2
}
